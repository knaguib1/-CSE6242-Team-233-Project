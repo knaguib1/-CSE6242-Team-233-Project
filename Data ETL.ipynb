{
 "cells": [
  {
   "cell_type": "markdown",
   "metadata": {},
   "source": [
    "# Imports"
   ]
  },
  {
   "cell_type": "code",
   "execution_count": 47,
   "metadata": {},
   "outputs": [],
   "source": [
    "import numpy as np\n",
    "import pandas as pd\n",
    "import swifter\n",
    "# import pandas_profiling\n",
    "import pprint\n",
    "import pickle\n",
    "\n",
    "from datetime import datetime\n",
    "import time\n",
    "\n",
    "import pytz\n",
    "from timezonefinder import TimezoneFinder"
   ]
  },
  {
   "cell_type": "markdown",
   "metadata": {},
   "source": [
    "## Jupyter Configurations"
   ]
  },
  {
   "cell_type": "code",
   "execution_count": 48,
   "metadata": {},
   "outputs": [
    {
     "data": {
      "text/html": [
       "<style>.container { width:90% !important; }</style>"
      ],
      "text/plain": [
       "<IPython.core.display.HTML object>"
      ]
     },
     "metadata": {},
     "output_type": "display_data"
    }
   ],
   "source": [
    "from IPython.core.interactiveshell import InteractiveShell\n",
    "InteractiveShell.ast_node_interactivity = \"all\"\n",
    "\n",
    "from IPython.core.display import display, HTML\n",
    "display(HTML(\"<style>.container { width:90% !important; }</style>\"))\n",
    "\n",
    "pd.set_option('display.max_columns', None)\n",
    "\n",
    "%matplotlib inline"
   ]
  },
  {
   "cell_type": "markdown",
   "metadata": {},
   "source": [
    "## Function Definitions"
   ]
  },
  {
   "cell_type": "code",
   "execution_count": 60,
   "metadata": {},
   "outputs": [],
   "source": [
    "def is_dst(dt=None, timezone=\"UTC\"):\n",
    "    if dt is None:\n",
    "        dt = datetime.utcnow()\n",
    "    timezone = pytz.timezone(timezone)\n",
    "    timezone_aware_date = timezone.localize(dt, is_dst=None)\n",
    "    return timezone_aware_date.tzinfo._dst.seconds != 0\n",
    "\n",
    "def multipleReplace(text, wordDict):\n",
    "    for key in wordDict:\n",
    "        text = text.replace(key, wordDict[key])\n",
    "    return text"
   ]
  },
  {
   "cell_type": "markdown",
   "metadata": {},
   "source": [
    "## Read Data"
   ]
  },
  {
   "cell_type": "code",
   "execution_count": 50,
   "metadata": {},
   "outputs": [
    {
     "name": "stdout",
     "output_type": "stream",
     "text": [
      "Imported 2,974,335 rows.\n",
      "CPU times: user 25.2 s, sys: 2.37 s, total: 27.5 s\n",
      "Wall time: 27.9 s\n"
     ]
    }
   ],
   "source": [
    "%%time\n",
    "\n",
    "df = pd.read_csv(\"US_Accidents_Dec19.csv\")\n",
    "\n",
    "print('Imported {:,} rows.'.format(len(df)))"
   ]
  },
  {
   "cell_type": "markdown",
   "metadata": {},
   "source": [
    "# Data Cleaning\n",
    "\n",
    "## Fill missing numeric values"
   ]
  },
  {
   "cell_type": "code",
   "execution_count": 51,
   "metadata": {},
   "outputs": [
    {
     "name": "stdout",
     "output_type": "stream",
     "text": [
      "CPU times: user 85 ms, sys: 14.5 ms, total: 99.5 ms\n",
      "Wall time: 105 ms\n"
     ]
    }
   ],
   "source": [
    "%%time\n",
    "\n",
    "df['Wind_Chill(F)'].fillna(df['Temperature(F)'], inplace=True)   #Went with Temp due to Wind_Chill.mean() giving values that didn't make sense.\n",
    "df['Wind_Speed(mph)'].fillna(df['Wind_Speed(mph)'].mean(), inplace=True)\n",
    "df['Precipitation(in)'].fillna(df['Precipitation(in)'].mean(), inplace=True)"
   ]
  },
  {
   "cell_type": "markdown",
   "metadata": {},
   "source": [
    "## Prepare the Datetime values"
   ]
  },
  {
   "cell_type": "code",
   "execution_count": 52,
   "metadata": {},
   "outputs": [
    {
     "name": "stdout",
     "output_type": "stream",
     "text": [
      "CPU times: user 19 s, sys: 750 ms, total: 19.8 s\n",
      "Wall time: 19.8 s\n"
     ]
    }
   ],
   "source": [
    "%%time\n",
    "\n",
    "df['Start_Time'] = pd.to_datetime(df['Start_Time'])\n",
    "df['End_Time'] = pd.to_datetime(df['End_Time'])\n",
    "df['Weather_Timestamp'] = pd.to_datetime(df['Weather_Timestamp'])\n",
    "\n",
    "df[\"Duration(s)\"] = (df[\"End_Time\"] - df[\"Start_Time\"]) // pd.Timedelta('1s')\n",
    "df['Start_Hour'] = df[\"Start_Time\"].dt.hour\n",
    "df['Start_Month'] = df[\"Start_Time\"].dt.month\n",
    "df['Start_Day'] = df[\"Start_Time\"].dt.strftime(\"%A\")\n",
    "\n",
    "# Map Day name of week to number\n",
    "d = {'Sunday': 1, 'Monday': 2, 'Tuesday': 3, 'Wednesday': 4, 'Thursday': 5, 'Friday': 6, 'Saturday': 7}\n",
    "\n",
    "df['Start_Day'] = df['Start_Day'].map(d)"
   ]
  },
  {
   "cell_type": "markdown",
   "metadata": {},
   "source": [
    "## Fill missing timezones and futher refine"
   ]
  },
  {
   "cell_type": "code",
   "execution_count": 53,
   "metadata": {},
   "outputs": [
    {
     "data": {
      "application/vnd.jupyter.widget-view+json": {
       "model_id": "71508afa8ea84138a7a3e0be90e80ed6",
       "version_major": 2,
       "version_minor": 0
      },
      "text/plain": [
       "HBox(children=(FloatProgress(value=0.0, description='Pandas Apply', max=2974335.0, style=ProgressStyle(descrip…"
      ]
     },
     "metadata": {},
     "output_type": "display_data"
    },
    {
     "name": "stdout",
     "output_type": "stream",
     "text": [
      "\n",
      "CPU times: user 2min 59s, sys: 34.7 s, total: 3min 33s\n",
      "Wall time: 3min 39s\n"
     ]
    }
   ],
   "source": [
    "%%time\n",
    "\n",
    "# Get Timezone info for missing. Also converts the timezones to more localized ones from the standard four.\n",
    "# May need to revisit and convert back to the standard four US timezones.\n",
    "df['Timezone'] = df['Timezone'].astype('str')\n",
    "tf = TimezoneFinder()\n",
    "df['Timezone'] = df.swifter.apply(lambda row: tf.timezone_at(lat=row['Start_Lat'], lng=row['Start_Lng']),axis=1)"
   ]
  },
  {
   "cell_type": "markdown",
   "metadata": {},
   "source": [
    "## Add Daylight Saving Time (DST) feature"
   ]
  },
  {
   "cell_type": "code",
   "execution_count": 54,
   "metadata": {},
   "outputs": [
    {
     "data": {
      "application/vnd.jupyter.widget-view+json": {
       "model_id": "53d7beb96e374cb7a31233d2481f40b5",
       "version_major": 2,
       "version_minor": 0
      },
      "text/plain": [
       "HBox(children=(FloatProgress(value=0.0, description='Pandas Apply', max=2974335.0, style=ProgressStyle(descrip…"
      ]
     },
     "metadata": {},
     "output_type": "display_data"
    },
    {
     "name": "stdout",
     "output_type": "stream",
     "text": [
      "\n",
      "CPU times: user 18min 55s, sys: 1min 21s, total: 20min 16s\n",
      "Wall time: 20min\n"
     ]
    }
   ],
   "source": [
    "%%time\n",
    "\n",
    "# Add Daylight Savings Time to allow for analysis.\n",
    "df['DST'] = df.swifter.apply(lambda row: is_dst(row['Start_Time'], timezone=row['Timezone']), axis=1)"
   ]
  },
  {
   "cell_type": "markdown",
   "metadata": {},
   "source": [
    "## Prepare the categorical data"
   ]
  },
  {
   "cell_type": "code",
   "execution_count": 61,
   "metadata": {},
   "outputs": [
    {
     "name": "stdout",
     "output_type": "stream",
     "text": [
      "CPU times: user 1.08 s, sys: 239 ms, total: 1.32 s\n",
      "Wall time: 1.36 s\n"
     ]
    }
   ],
   "source": [
    "%%time\n",
    "\n",
    "df['Side'] = df['Side'].astype(str)\n",
    "df.at[df[~df['Side'].isin(['L','R'])].index, 'Side'] = 'U'  #Replace unknown values with U\n",
    "# df['Side'] = df['Side'].astype('category')\n",
    "\n",
    "\n",
    "# df['Airport_Code'] = df['Airport_Code'].astype('category')\n",
    "# df['Wind_Direction'] = df['Wind_Direction'].astype('category')\n",
    "# df['Weather_Condition'] = df['Weather_Condition'].astype('category')\n",
    "\n",
    "\n",
    "# Standarize the Wind_Direction values\n",
    "wordDict = {'South': 'S', 'West': 'W', 'North': 'N', 'East': 'E', 'Variable': 'VAR', 'Calm': 'CALM'}\n",
    "df['Wind_Direction'].fillna('VAR', inplace=True)\n",
    "df['Wind_Direction'] = df.swifter.apply(lambda row: multipleReplace(row['Wind_Direction'], wordDict), axis = 1)"
   ]
  },
  {
   "cell_type": "code",
   "execution_count": 56,
   "metadata": {},
   "outputs": [
    {
     "name": "stdout",
     "output_type": "stream",
     "text": [
      "CPU times: user 4.17 s, sys: 572 ms, total: 4.74 s\n",
      "Wall time: 5.11 s\n"
     ]
    }
   ],
   "source": [
    "%%time\n",
    "\n",
    "# Cannot convert these before fillna occurs\n",
    "\n",
    "df['Severity'] = df['Severity'].astype(int)\n",
    "\n",
    "df['Zipcode'] = df['Zipcode'].str.split('-').str[0].astype(str)  # Throw away the Zip-4"
   ]
  },
  {
   "cell_type": "code",
   "execution_count": 57,
   "metadata": {},
   "outputs": [
    {
     "name": "stdout",
     "output_type": "stream",
     "text": [
      "CPU times: user 6.85 s, sys: 948 ms, total: 7.8 s\n",
      "Wall time: 8.03 s\n"
     ]
    }
   ],
   "source": [
    "%%time\n",
    "\n",
    "for col in ['Sunrise_Sunset','Civil_Twilight','Nautical_Twilight','Astronomical_Twilight']:\n",
    "    df[col] = np.where(df[col].str.contains(\"Day\"), True, False)"
   ]
  },
  {
   "cell_type": "code",
   "execution_count": 58,
   "metadata": {},
   "outputs": [
    {
     "name": "stdout",
     "output_type": "stream",
     "text": [
      "CPU times: user 1.96 s, sys: 1.7 s, total: 3.67 s\n",
      "Wall time: 4.1 s\n"
     ]
    }
   ],
   "source": [
    "%%time\n",
    "\n",
    "# Drop unecessary columns\n",
    "\n",
    "df.drop(['Source'], axis = 1, inplace = True) # Source doesn't seem to be useful as it's three values\n",
    "df.drop(['End_Lat','End_Lng'], axis = 1, inplace = True) # Primarily NaN\n",
    "df.drop(['Distance(mi)'], axis = 1, inplace = True) #Doesn't seem to be relevant as approx. 2M rows are 0.01"
   ]
  },
  {
   "cell_type": "markdown",
   "metadata": {},
   "source": [
    "## Write out data to Pickle"
   ]
  },
  {
   "cell_type": "code",
   "execution_count": 63,
   "metadata": {},
   "outputs": [
    {
     "name": "stdout",
     "output_type": "stream",
     "text": [
      "CPU times: user 6.01 s, sys: 3.82 s, total: 9.84 s\n",
      "Wall time: 11 s\n"
     ]
    }
   ],
   "source": [
    "%%time\n",
    "\n",
    "outfile = open('US_Accidents_Dec19', 'wb')\n",
    "pickle.dump(df, outfile)\n",
    "outfile.close()"
   ]
  },
  {
   "cell_type": "code",
   "execution_count": null,
   "metadata": {},
   "outputs": [],
   "source": []
  }
 ],
 "metadata": {
  "kernelspec": {
   "display_name": "Python 3",
   "language": "python",
   "name": "python3"
  },
  "language_info": {
   "codemirror_mode": {
    "name": "ipython",
    "version": 3
   },
   "file_extension": ".py",
   "mimetype": "text/x-python",
   "name": "python",
   "nbconvert_exporter": "python",
   "pygments_lexer": "ipython3",
   "version": "3.7.6"
  }
 },
 "nbformat": 4,
 "nbformat_minor": 4
}
