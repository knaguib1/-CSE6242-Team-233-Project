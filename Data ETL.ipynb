{
 "cells": [
  {
   "cell_type": "markdown",
   "metadata": {},
   "source": [
    "# Imports"
   ]
  },
  {
   "cell_type": "code",
   "execution_count": 143,
   "metadata": {},
   "outputs": [],
   "source": [
    "import numpy as np\n",
    "import pandas as pd\n",
    "import swifter\n",
    "# import pandas_profiling\n",
    "import pprint\n",
    "import pickle\n",
    "import re\n",
    "\n",
    "from datetime import datetime\n",
    "import time\n",
    "\n",
    "import pytz\n",
    "from timezonefinder import TimezoneFinder"
   ]
  },
  {
   "cell_type": "markdown",
   "metadata": {},
   "source": [
    "## Jupyter Configurations"
   ]
  },
  {
   "cell_type": "code",
   "execution_count": 144,
   "metadata": {},
   "outputs": [
    {
     "data": {
      "text/html": [
       "<style>.container { width:90% !important; }</style>"
      ],
      "text/plain": [
       "<IPython.core.display.HTML object>"
      ]
     },
     "metadata": {},
     "output_type": "display_data"
    }
   ],
   "source": [
    "from IPython.core.interactiveshell import InteractiveShell\n",
    "InteractiveShell.ast_node_interactivity = \"all\"\n",
    "\n",
    "from IPython.core.display import display, HTML\n",
    "display(HTML(\"<style>.container { width:90% !important; }</style>\"))\n",
    "\n",
    "pd.set_option('display.max_columns', None)\n",
    "pd.set_option('display.max_rows', 500)\n",
    "\n",
    "%matplotlib inline"
   ]
  },
  {
   "cell_type": "markdown",
   "metadata": {},
   "source": [
    "## Function Definitions"
   ]
  },
  {
   "cell_type": "code",
   "execution_count": 145,
   "metadata": {},
   "outputs": [],
   "source": [
    "def is_dst(dt=None, timezone=\"UTC\"):\n",
    "    if dt is None:\n",
    "        dt = datetime.utcnow()\n",
    "    timezone = pytz.timezone(timezone)\n",
    "    timezone_aware_date = timezone.localize(dt, is_dst=None)\n",
    "    return timezone_aware_date.tzinfo._dst.seconds != 0\n",
    "\n",
    "def multipleReplace(text, wordDict):\n",
    "    for key in wordDict:\n",
    "        text = text.replace(key, wordDict[key])\n",
    "    return text"
   ]
  },
  {
   "cell_type": "markdown",
   "metadata": {},
   "source": [
    "## Read Data"
   ]
  },
  {
   "cell_type": "code",
   "execution_count": 146,
   "metadata": {},
   "outputs": [
    {
     "name": "stdout",
     "output_type": "stream",
     "text": [
      "Imported 2,974,335 rows.\n",
      "CPU times: user 27.7 s, sys: 2.95 s, total: 30.6 s\n",
      "Wall time: 31 s\n"
     ]
    }
   ],
   "source": [
    "%%time\n",
    "\n",
    "df = pd.read_csv(\"US_Accidents_Dec19.csv\")\n",
    "\n",
    "print('Imported {:,} rows.'.format(len(df)))"
   ]
  },
  {
   "cell_type": "markdown",
   "metadata": {},
   "source": [
    "# Data Cleaning\n",
    "\n",
    "## Fill missing numeric values"
   ]
  },
  {
   "cell_type": "code",
   "execution_count": 147,
   "metadata": {},
   "outputs": [
    {
     "name": "stdout",
     "output_type": "stream",
     "text": [
      "CPU times: user 1.81 s, sys: 413 ms, total: 2.22 s\n",
      "Wall time: 2.23 s\n"
     ]
    }
   ],
   "source": [
    "%%time\n",
    "\n",
    "df['Wind_Chill(F)'].fillna(df['Temperature(F)'], inplace=True)   #Went with Temp due to Wind_Chill.mean() giving values that didn't make sense.\n",
    "df['Wind_Speed(mph)'].fillna(df['Wind_Speed(mph)'].mean(), inplace=True)\n",
    "\n",
    "df['Precipitation(in)'].fillna(value=0, inplace=True)\n",
    "df['Precipitation'] = df['Precipitation(in)'].apply(lambda x : True if float(x) > 0 else False)\n",
    "df.drop('Precipitation(in)', axis = 1, inplace = True) # Converted to a bool named 'Precipitation'"
   ]
  },
  {
   "cell_type": "markdown",
   "metadata": {},
   "source": [
    "## Prepare the Datetime values"
   ]
  },
  {
   "cell_type": "code",
   "execution_count": 148,
   "metadata": {},
   "outputs": [
    {
     "name": "stdout",
     "output_type": "stream",
     "text": [
      "CPU times: user 20.8 s, sys: 981 ms, total: 21.8 s\n",
      "Wall time: 22 s\n"
     ]
    }
   ],
   "source": [
    "%%time\n",
    "\n",
    "df['Start_Time'] = pd.to_datetime(df['Start_Time'])\n",
    "df['End_Time'] = pd.to_datetime(df['End_Time'])\n",
    "df['Weather_Timestamp'] = pd.to_datetime(df['Weather_Timestamp'])\n",
    "\n",
    "df[\"Duration(s)\"] = (df[\"End_Time\"] - df[\"Start_Time\"]) // pd.Timedelta('1s')\n",
    "df['Start_Hour'] = df[\"Start_Time\"].dt.hour\n",
    "df['Start_Month'] = df[\"Start_Time\"].dt.month\n",
    "df['Start_Day'] = df[\"Start_Time\"].dt.strftime(\"%A\")\n",
    "\n",
    "# Map Day name of week to number\n",
    "d = {'Sunday': 1, 'Monday': 2, 'Tuesday': 3, 'Wednesday': 4, 'Thursday': 5, 'Friday': 6, 'Saturday': 7}\n",
    "\n",
    "df['Start_Day'] = df['Start_Day'].map(d)\n",
    "\n",
    "# Map Day name of week to number\n",
    "d = {'Sunday': True, 'Monday': False, 'Tuesday': False, 'Wednesday': False, 'Thursday': False, 'Friday': False, 'Saturday': True}\n",
    "\n",
    "df['Weekend'] = df['Start_Day'].map(d)"
   ]
  },
  {
   "cell_type": "markdown",
   "metadata": {},
   "source": [
    "## Fill missing timezones and futher refine"
   ]
  },
  {
   "cell_type": "code",
   "execution_count": null,
   "metadata": {},
   "outputs": [
    {
     "data": {
      "application/vnd.jupyter.widget-view+json": {
       "model_id": "246363d964344ce2be73108794ac4751",
       "version_major": 2,
       "version_minor": 0
      },
      "text/plain": [
       "HBox(children=(FloatProgress(value=0.0, description='Pandas Apply', max=2974335.0, style=ProgressStyle(descrip…"
      ]
     },
     "metadata": {},
     "output_type": "display_data"
    }
   ],
   "source": [
    "%%time\n",
    "\n",
    "# Get Timezone info for missing. Also converts the timezones to more localized ones from the standard four.\n",
    "# May need to revisit and convert back to the standard four US timezones.\n",
    "df['Timezone'] = df['Timezone'].astype('str')\n",
    "tf = TimezoneFinder()\n",
    "df['Timezone'] = df.swifter.apply(lambda row: tf.timezone_at(lat=row['Start_Lat'], lng=row['Start_Lng']),axis=1)"
   ]
  },
  {
   "cell_type": "markdown",
   "metadata": {},
   "source": [
    "## Add Daylight Saving Time (DST) feature"
   ]
  },
  {
   "cell_type": "code",
   "execution_count": null,
   "metadata": {},
   "outputs": [],
   "source": [
    "%%time\n",
    "\n",
    "# Add Daylight Savings Time to allow for analysis.\n",
    "df['DST'] = df.swifter.apply(lambda row: is_dst(row['Start_Time'], timezone=row['Timezone']), axis=1)"
   ]
  },
  {
   "cell_type": "markdown",
   "metadata": {},
   "source": [
    "## Prepare the categorical data"
   ]
  },
  {
   "cell_type": "code",
   "execution_count": 149,
   "metadata": {},
   "outputs": [
    {
     "name": "stdout",
     "output_type": "stream",
     "text": [
      "CPU times: user 56.3 s, sys: 1.76 s, total: 58 s\n",
      "Wall time: 58.9 s\n"
     ]
    }
   ],
   "source": [
    "%%time\n",
    "\n",
    "df['Side'] = df['Side'].astype(str)\n",
    "df.at[df[~df['Side'].isin(['L','R'])].index, 'Side'] = 'U'  #Replace unknown values with U\n",
    "# df['Side'] = df['Side'].astype('category')\n",
    "\n",
    "\n",
    "# df['Airport_Code'] = df['Airport_Code'].astype('category')\n",
    "# df['Wind_Direction'] = df['Wind_Direction'].astype('category')\n",
    "# df['Weather_Condition'] = df['Weather_Condition'].astype('category')\n",
    "\n",
    "\n",
    "# Standarize the Wind_Direction values\n",
    "wordDict = {'South': 'S', 'West': 'W', 'North': 'N', 'East': 'E', 'Variable': 'VAR', 'Calm': 'CALM'}\n",
    "df['Wind_Direction'].fillna('VAR', inplace=True)\n",
    "df['Wind_Direction'] = df.swifter.apply(lambda row: multipleReplace(row['Wind_Direction'], wordDict), axis = 1)\n",
    "\n",
    "\n",
    "df['Weather_Condition'] = df['Weather_Condition'].replace(' \\/ Windy', '', regex=True)\n",
    "\n",
    "df['Weather_Condition'] = df['Weather_Condition'].replace('T-Storm', 'Thunderstorm', regex=True)\n",
    "df['Weather_Condition'] = df['Weather_Condition'].replace('Rain with Thunder', 'Thunderstorm', regex=True)\n",
    "df['Weather_Condition'] = df['Weather_Condition'].replace('Thunderstorms', 'Thunderstorm', regex=True)\n",
    "df['Weather_Condition'] = df['Weather_Condition'].replace('^Thunder$', 'Thunderstorm', regex=True)\n",
    "\n",
    "df['Weather_Condition'] = df['Weather_Condition'].replace('Mostly', '', regex=True)\n",
    "df['Weather_Condition'] = df['Weather_Condition'].replace('Partly', '', regex=True)\n",
    "df['Weather_Condition'] = df['Weather_Condition'].replace('Scattered', '', regex=True)\n",
    "df['Weather_Condition'] = df['Weather_Condition'].replace('Light', '', regex=True)\n",
    "df['Weather_Condition'] = df['Weather_Condition'].replace('Heavy', '', regex=True)\n",
    "df['Weather_Condition'] = df['Weather_Condition'].replace('Patches of ', '', regex=True)\n",
    "df['Weather_Condition'] = df['Weather_Condition'].replace(' and Rain', '', regex=True)\n",
    "df['Weather_Condition'] = df['Weather_Condition'].replace(' in the Vicinity', '', regex=True)\n",
    "df['Weather_Condition'] = df['Weather_Condition'].replace('Shallow', '', regex=True)\n",
    "df['Weather_Condition'] = df['Weather_Condition'].replace('Widespread', '', regex=True)\n",
    "df['Weather_Condition'] = df['Weather_Condition'].replace('Blowing ', '', regex=True)\n",
    "df['Weather_Condition'] = df['Weather_Condition'].replace('Partial ', '', regex=True)\n",
    "df['Weather_Condition'] = df['Weather_Condition'].replace('Freezing ', '', regex=True)\n",
    "df['Weather_Condition'] = df['Weather_Condition'].replace('^Showers$', 'Rain', regex=True)\n",
    "df['Weather_Condition'] = df['Weather_Condition'].replace(' Showers$', '', regex=True)\n",
    "df['Weather_Condition'] = df['Weather_Condition'].replace(' Shower$', '', regex=True)\n",
    "df['Weather_Condition'] = df['Weather_Condition'].replace('Drizzle', 'Rain', regex=True)\n",
    "df['Weather_Condition'] = df['Weather_Condition'].replace(' Grains', '', regex=True)\n",
    "df['Weather_Condition'] = df['Weather_Condition'].replace('Thunder and Hail', 'Hail', regex=True)\n",
    "df['Weather_Condition'] = df['Weather_Condition'].replace('Thunderstorm with Small Hail', 'Hail', regex=True)\n",
    "df['Weather_Condition'] = df['Weather_Condition'].replace('N/A Precipitation', 'None', regex=True)\n",
    "df['Weather_Condition'] = df['Weather_Condition'].replace('with Thunder', '', regex=True)\n",
    "df['Weather_Condition'] = df['Weather_Condition'].replace('Thunderstorm and', '', regex=True)\n",
    "df['Weather_Condition'] = df['Weather_Condition'].replace('Small Hail', 'Hail', regex=True)\n",
    "df['Weather_Condition'] = df['Weather_Condition'].replace('Low Drifting Snow', 'Snow', regex=True)\n",
    "df['Weather_Condition'] = df['Weather_Condition'].replace('(\\w+)\\s\\w+\\s\\w+$', r'\\1', regex=True)\n",
    "\n",
    "df['Weather_Condition'] = df['Weather_Condition'].replace(' Whirls', '', regex=True)\n",
    "\n",
    "\n",
    "df['Weather_Condition'] = df['Weather_Condition'].replace('^(\\w+)\\s\\/.+$', r'\\1', regex=True)\n",
    "\n",
    "df['Weather_Condition'] = df['Weather_Condition'].replace('^\\s+', '', regex=True) #Remove leading spaces"
   ]
  },
  {
   "cell_type": "code",
   "execution_count": 150,
   "metadata": {},
   "outputs": [
    {
     "name": "stdout",
     "output_type": "stream",
     "text": [
      "CPU times: user 5.02 s, sys: 273 ms, total: 5.29 s\n",
      "Wall time: 5.3 s\n"
     ]
    }
   ],
   "source": [
    "%%time\n",
    "\n",
    "# Cannot convert these before fillna occurs\n",
    "\n",
    "df['Severity'] = df['Severity'].astype(int)\n",
    "\n",
    "df['Zipcode'] = df['Zipcode'].str.split('-').str[0].astype(str)  # Throw away the Zip-4"
   ]
  },
  {
   "cell_type": "code",
   "execution_count": 151,
   "metadata": {},
   "outputs": [
    {
     "name": "stdout",
     "output_type": "stream",
     "text": [
      "CPU times: user 6.81 s, sys: 521 ms, total: 7.33 s\n",
      "Wall time: 7.34 s\n"
     ]
    }
   ],
   "source": [
    "%%time\n",
    "\n",
    "for col in ['Sunrise_Sunset','Civil_Twilight','Nautical_Twilight','Astronomical_Twilight']:\n",
    "    df[col] = np.where(df[col].str.contains(\"Day\"), True, False)"
   ]
  },
  {
   "cell_type": "code",
   "execution_count": 152,
   "metadata": {},
   "outputs": [
    {
     "name": "stdout",
     "output_type": "stream",
     "text": [
      "CPU times: user 2.06 s, sys: 868 ms, total: 2.93 s\n",
      "Wall time: 2.94 s\n"
     ]
    }
   ],
   "source": [
    "%%time\n",
    "\n",
    "# Drop unecessary columns\n",
    "\n",
    "df.drop(['Source'], axis = 1, inplace = True) # Source doesn't seem to be useful as it's three values\n",
    "df.drop(['End_Lat','End_Lng'], axis = 1, inplace = True) # Primarily NaN\n",
    "df.drop(['Distance(mi)'], axis = 1, inplace = True) #Doesn't seem to be relevant as approx. 2M rows are 0.01"
   ]
  },
  {
   "cell_type": "markdown",
   "metadata": {},
   "source": [
    "## Write out data to Pickle"
   ]
  },
  {
   "cell_type": "code",
   "execution_count": 63,
   "metadata": {},
   "outputs": [
    {
     "name": "stdout",
     "output_type": "stream",
     "text": [
      "CPU times: user 6.01 s, sys: 3.82 s, total: 9.84 s\n",
      "Wall time: 11 s\n"
     ]
    }
   ],
   "source": [
    "%%time\n",
    "\n",
    "outfile = open('US_Accidents_Dec19', 'wb')\n",
    "pickle.dump(df, outfile)\n",
    "outfile.close()"
   ]
  },
  {
   "cell_type": "code",
   "execution_count": null,
   "metadata": {},
   "outputs": [],
   "source": []
  }
 ],
 "metadata": {
  "kernelspec": {
   "display_name": "Python 3",
   "language": "python",
   "name": "python3"
  },
  "language_info": {
   "codemirror_mode": {
    "name": "ipython",
    "version": 3
   },
   "file_extension": ".py",
   "mimetype": "text/x-python",
   "name": "python",
   "nbconvert_exporter": "python",
   "pygments_lexer": "ipython3",
   "version": "3.7.6"
  }
 },
 "nbformat": 4,
 "nbformat_minor": 4
}
