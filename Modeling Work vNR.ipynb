{
 "cells": [
  {
   "cell_type": "markdown",
   "metadata": {},
   "source": [
    "# Imports"
   ]
  },
  {
   "cell_type": "code",
   "execution_count": 23,
   "metadata": {},
   "outputs": [],
   "source": [
    "import numpy as np\n",
    "import pandas as pd\n",
    "import swifter\n",
    "# import pandas_profiling\n",
    "import pprint\n",
    "import pickle\n",
    "import re\n",
    "\n",
    "from datetime import datetime\n",
    "import time\n",
    "\n",
    "import pytz\n",
    "#from timezonefinder import TimezoneFinder\n",
    "\n",
    "import seaborn as sns\n",
    "import matplotlib.pyplot as plt\n",
    "\n",
    "from sklearn.ensemble import RandomForestRegressor\n",
    "from sklearn.ensemble import GradientBoostingRegressor\n",
    "#from sklearn.preprocessing import OneHotEncoder\n",
    "from sklearn.model_selection import train_test_split\n",
    "from sklearn.linear_model import lasso_path\n",
    "\n",
    "from itertools import cycle"
   ]
  },
  {
   "cell_type": "markdown",
   "metadata": {},
   "source": [
    "## Jupyter Configurations"
   ]
  },
  {
   "cell_type": "code",
   "execution_count": 2,
   "metadata": {},
   "outputs": [
    {
     "data": {
      "text/html": [
       "<style>.container { width:90% !important; }</style>"
      ],
      "text/plain": [
       "<IPython.core.display.HTML object>"
      ]
     },
     "metadata": {},
     "output_type": "display_data"
    }
   ],
   "source": [
    "from IPython.core.interactiveshell import InteractiveShell\n",
    "InteractiveShell.ast_node_interactivity = \"all\"\n",
    "\n",
    "from IPython.core.display import display, HTML\n",
    "display(HTML(\"<style>.container { width:90% !important; }</style>\"))\n",
    "\n",
    "pd.set_option('display.max_columns', None)\n",
    "\n",
    "%matplotlib inline"
   ]
  },
  {
   "cell_type": "markdown",
   "metadata": {},
   "source": [
    "## Function Definitions"
   ]
  },
  {
   "cell_type": "code",
   "execution_count": 3,
   "metadata": {},
   "outputs": [],
   "source": [
    "def is_dst(dt=None, timezone=\"UTC\"):\n",
    "    if dt is None:\n",
    "        dt = datetime.utcnow()\n",
    "    timezone = pytz.timezone(timezone)\n",
    "    timezone_aware_date = timezone.localize(dt, is_dst=None)\n",
    "    return timezone_aware_date.tzinfo._dst.seconds != 0\n",
    "\n",
    "def multipleReplace(text, wordDict):\n",
    "    for key in wordDict:\n",
    "        text = text.replace(key, wordDict[key])\n",
    "    return text"
   ]
  },
  {
   "cell_type": "markdown",
   "metadata": {},
   "source": [
    "## Read Data"
   ]
  },
  {
   "cell_type": "code",
   "execution_count": 4,
   "metadata": {},
   "outputs": [
    {
     "name": "stdout",
     "output_type": "stream",
     "text": [
      "Imported 2,974,335 rows.\n",
      "CPU times: user 33.2 s, sys: 2.09 s, total: 35.3 s\n",
      "Wall time: 34.9 s\n"
     ]
    }
   ],
   "source": [
    "%%time\n",
    "\n",
    "df = pd.read_csv(\"US_Accidents_Dec19.csv\")\n",
    "\n",
    "print('Imported {:,} rows.'.format(len(df)))"
   ]
  },
  {
   "cell_type": "markdown",
   "metadata": {},
   "source": [
    "## Prepare the Datetime values"
   ]
  },
  {
   "cell_type": "code",
   "execution_count": 5,
   "metadata": {},
   "outputs": [
    {
     "name": "stdout",
     "output_type": "stream",
     "text": [
      "CPU times: user 31.9 s, sys: 966 ms, total: 32.9 s\n",
      "Wall time: 29.6 s\n"
     ]
    }
   ],
   "source": [
    "%%time\n",
    "\n",
    "df['Start_Time'] = pd.to_datetime(df['Start_Time'])\n",
    "df['End_Time'] = pd.to_datetime(df['End_Time'])\n",
    "df['Weather_Timestamp'] = pd.to_datetime(df['Weather_Timestamp'])\n",
    "\n",
    "df[\"Duration(s)\"] = (df[\"End_Time\"] - df[\"Start_Time\"]) // pd.Timedelta('1s')\n",
    "df['Start_Hour'] = df[\"Start_Time\"].dt.hour\n",
    "df['Start_Month'] = df[\"Start_Time\"].dt.month\n",
    "df['Weekend'] = df[\"Start_Time\"].dt.strftime(\"%A\")\n",
    "\n",
    "# Map Day name of week to number\n",
    "d = {'Sunday': 1, 'Monday': 0, 'Tuesday': 0, 'Wednesday': 0, 'Thursday': 0, 'Friday': 0, 'Saturday': 1}\n",
    "\n",
    "df['Weekend'] = df['Weekend'].map(d)\n",
    "\n"
   ]
  },
  {
   "cell_type": "markdown",
   "metadata": {},
   "source": [
    "## Prepare Categorical Variables"
   ]
  },
  {
   "cell_type": "code",
   "execution_count": 6,
   "metadata": {},
   "outputs": [
    {
     "name": "stdout",
     "output_type": "stream",
     "text": [
      "CPU times: user 1min 56s, sys: 3.36 s, total: 2min\n",
      "Wall time: 2min\n"
     ]
    }
   ],
   "source": [
    "%%time\n",
    "\n",
    "df['Side'] = df['Side'].astype(str)\n",
    "df.at[df[~df['Side'].isin(['L','R'])].index, 'Side'] = 'U'  #Replace unknown values with U\n",
    "\n",
    "# df['Airport_Code'] = df['Airport_Code'].astype('category')\n",
    "# df['Wind_Direction'] = df['Wind_Direction'].astype('category')\n",
    "# df['Weather_Condition'] = df['Weather_Condition'].astype('category')\n",
    "\n",
    "\n",
    "# Standarize the Wind_Direction values\n",
    "wordDict = {'South': 'S', 'West': 'W', 'North': 'N', 'East': 'E', 'Variable': 'VAR', 'Calm': 'CALM'}\n",
    "df['Wind_Direction'].fillna('VAR', inplace=True)\n",
    "df['Wind_Direction'] = df.swifter.apply(lambda row: multipleReplace(row['Wind_Direction'], wordDict), axis = 1)\n",
    "\n",
    "\n",
    "df['Weather_Condition'] = df['Weather_Condition'].replace(' \\/ Windy', '', regex=True)\n",
    "\n",
    "df['Weather_Condition'] = df['Weather_Condition'].replace('T-Storm', 'Thunderstorm', regex=True)\n",
    "df['Weather_Condition'] = df['Weather_Condition'].replace('Rain with Thunder', 'Thunderstorm', regex=True)\n",
    "df['Weather_Condition'] = df['Weather_Condition'].replace('Thunderstorms', 'Thunderstorm', regex=True)\n",
    "df['Weather_Condition'] = df['Weather_Condition'].replace('^Thunder$', 'Thunderstorm', regex=True)\n",
    "\n",
    "df['Weather_Condition'] = df['Weather_Condition'].replace('Mostly', '', regex=True)\n",
    "df['Weather_Condition'] = df['Weather_Condition'].replace('Partly', '', regex=True)\n",
    "df['Weather_Condition'] = df['Weather_Condition'].replace('Scattered', '', regex=True)\n",
    "df['Weather_Condition'] = df['Weather_Condition'].replace('Light', '', regex=True)\n",
    "df['Weather_Condition'] = df['Weather_Condition'].replace('Heavy', '', regex=True)\n",
    "df['Weather_Condition'] = df['Weather_Condition'].replace('Patches of ', '', regex=True)\n",
    "df['Weather_Condition'] = df['Weather_Condition'].replace(' and Rain', '', regex=True)\n",
    "df['Weather_Condition'] = df['Weather_Condition'].replace(' in the Vicinity', '', regex=True)\n",
    "df['Weather_Condition'] = df['Weather_Condition'].replace('Shallow', '', regex=True)\n",
    "df['Weather_Condition'] = df['Weather_Condition'].replace('Widespread', '', regex=True)\n",
    "df['Weather_Condition'] = df['Weather_Condition'].replace('Blowing ', '', regex=True)\n",
    "df['Weather_Condition'] = df['Weather_Condition'].replace('Partial ', '', regex=True)\n",
    "df['Weather_Condition'] = df['Weather_Condition'].replace('Freezing ', '', regex=True)\n",
    "df['Weather_Condition'] = df['Weather_Condition'].replace('^Showers$', 'Rain', regex=True)\n",
    "df['Weather_Condition'] = df['Weather_Condition'].replace(' Showers$', '', regex=True)\n",
    "df['Weather_Condition'] = df['Weather_Condition'].replace(' Shower$', '', regex=True)\n",
    "df['Weather_Condition'] = df['Weather_Condition'].replace('Drizzle', 'Rain', regex=True)\n",
    "df['Weather_Condition'] = df['Weather_Condition'].replace(' Grains', '', regex=True)\n",
    "df['Weather_Condition'] = df['Weather_Condition'].replace('Thunder and Hail', 'Hail', regex=True)\n",
    "df['Weather_Condition'] = df['Weather_Condition'].replace('Thunderstorm with Small Hail', 'Hail', regex=True)\n",
    "df['Weather_Condition'] = df['Weather_Condition'].replace('N/A Precipitation', 'None', regex=True)\n",
    "df['Weather_Condition'] = df['Weather_Condition'].replace('with Thunder', '', regex=True)\n",
    "df['Weather_Condition'] = df['Weather_Condition'].replace('Thunderstorm and', '', regex=True)\n",
    "df['Weather_Condition'] = df['Weather_Condition'].replace('Small Hail', 'Hail', regex=True)\n",
    "df['Weather_Condition'] = df['Weather_Condition'].replace('Low Drifting Snow', 'Snow', regex=True)\n",
    "df['Weather_Condition'] = df['Weather_Condition'].replace('(\\w+)\\s\\w+\\s\\w+$', r'\\1', regex=True)\n",
    "\n",
    "df['Weather_Condition'] = df['Weather_Condition'].replace(' Whirls', '', regex=True)\n",
    "\n",
    "df['Weather_Condition'] = df['Weather_Condition'].replace('Cloudy', 'Overcast', regex=True)\n",
    "df['Weather_Condition'] = df['Weather_Condition'].replace('Clouds', 'Overcast', regex=True)\n",
    "\n",
    "df['Weather_Condition'] = df['Weather_Condition'].replace('Fair', 'Clear', regex=True)\n",
    "df['Weather_Condition'] = df['Weather_Condition'].replace('None', 'Clear', regex=True)\n",
    "\n",
    "df['Weather_Condition'] = df['Weather_Condition'].replace('Volcanic Ash', 'Dust', regex=True)\n",
    "df['Weather_Condition'] = df['Weather_Condition'].replace('Sand', 'Dust', regex=True)\n",
    "\n",
    "df['Weather_Condition'] = df['Weather_Condition'].replace('Ice Pellets', 'Hail', regex=True)\n",
    "\n",
    "df['Weather_Condition'] = df['Weather_Condition'].replace('Wintry Mix', 'Sleet', regex=True)\n",
    "\n",
    "df['Weather_Condition'] = df['Weather_Condition'].replace('Squalls', 'Thunderstorm', regex=True)\n",
    "\n",
    "df['Weather_Condition'] = df['Weather_Condition'].replace('Snow ', 'Snow', regex=True)\n",
    "\n",
    "df['Weather_Condition'] = df['Weather_Condition'].replace('Haze', 'Fog', regex=True)\n",
    "df['Weather_Condition'] = df['Weather_Condition'].replace('Smoke', 'Fog', regex=True)\n",
    "\n",
    "df['Weather_Condition'] = df['Weather_Condition'].replace('Mist', 'Rain', regex=True)\n",
    "\n",
    "df['Weather_Condition'] = df['Weather_Condition'].replace('^(\\w+)\\s\\/.+$', r'\\1', regex=True)\n",
    "\n",
    "df['Weather_Condition'] = df['Weather_Condition'].replace('^\\s+', '', regex=True) #Remove leading spaces"
   ]
  },
  {
   "cell_type": "code",
   "execution_count": 7,
   "metadata": {},
   "outputs": [
    {
     "name": "stdout",
     "output_type": "stream",
     "text": [
      "['Rain' 'Overcast' 'Snow' 'Fog' 'Clear' nan 'Thunderstorm' 'Dust' 'Hail'\n",
      " 'Thunder' 'Funnel Cloud' 'Sleet' 'Tornado']\n"
     ]
    }
   ],
   "source": [
    "print(df['Weather_Condition'].unique())"
   ]
  },
  {
   "cell_type": "code",
   "execution_count": 8,
   "metadata": {},
   "outputs": [],
   "source": [
    "# Fill in precipitation with 1/0\n",
    "\n",
    "# Weather conditions with precipitation\n",
    "precip_conds = ['Rain', 'Snow', 'Thunderstorm', 'Hail', 'Sleet']\n",
    "\n",
    "# Fill with a 1 if precipitation present\n",
    "df['Precipitation'] = np.where(((df['Precipitation(in)'].isnull()) & (df['Weather_Condition'].isin(precip_conds))),\\\n",
    "                                   1, df['Precipitation(in)'].apply(np.ceil))\n",
    "\n",
    "# Fill with a 0 otherwise\n",
    "df['Precipitation'].fillna(0, inplace=True)\n",
    "\n",
    "# Set all non-zero to 1\n",
    "df['Precipitation'] = np.where(df['Precipitation'].ne(0), 1, 0)"
   ]
  },
  {
   "cell_type": "code",
   "execution_count": 9,
   "metadata": {},
   "outputs": [
    {
     "name": "stdout",
     "output_type": "stream",
     "text": [
      "[1 0]\n",
      "0    2738161\n",
      "1     236174\n",
      "Name: Precipitation, dtype: int64\n"
     ]
    }
   ],
   "source": [
    "print(df['Precipitation'].unique())\n",
    "\n",
    "print(df['Precipitation'].value_counts())"
   ]
  },
  {
   "cell_type": "code",
   "execution_count": 10,
   "metadata": {},
   "outputs": [
    {
     "name": "stdout",
     "output_type": "stream",
     "text": [
      "1998358\n"
     ]
    }
   ],
   "source": [
    "print(df['Precipitation(in)'].isna().sum())"
   ]
  },
  {
   "cell_type": "markdown",
   "metadata": {},
   "source": [
    "## One Hot Encoding"
   ]
  },
  {
   "cell_type": "code",
   "execution_count": 11,
   "metadata": {},
   "outputs": [],
   "source": [
    "def encode_and_bind(original_dataframe, feature_to_encode):\n",
    "    dummies = pd.get_dummies(original_dataframe[[feature_to_encode]])\n",
    "    res = pd.concat([original_dataframe, dummies], axis=1)\n",
    "    res = res.drop([feature_to_encode], axis=1)\n",
    "    return(res) \n",
    "\n",
    "features_to_encode = ['Wind_Direction', 'Weather_Condition',\n",
    "                     'Amenity', 'Bump', 'Crossing', 'Give_Way', 'Junction', 'No_Exit', \n",
    "                     'Railway', 'Roundabout', 'Station', 'Stop', 'Traffic_Calming', \n",
    "                     'Traffic_Signal', 'Turning_Loop', 'Sunrise_Sunset', 'Civil_Twilight',\n",
    "                     'Nautical_Twilight', 'Astronomical_Twilight']\n",
    "\n",
    "df_ohe = encode_and_bind(df, 'Timezone')\n",
    "\n",
    "for feature in features_to_encode:\n",
    "    df_ohe = encode_and_bind(df_ohe, feature)\n",
    "    \n",
    "\n"
   ]
  },
  {
   "cell_type": "markdown",
   "metadata": {},
   "source": [
    "# Data Cleaning\n",
    "\n",
    "## Fill missing numeric values"
   ]
  },
  {
   "cell_type": "code",
   "execution_count": 13,
   "metadata": {},
   "outputs": [
    {
     "name": "stdout",
     "output_type": "stream",
     "text": [
      "CPU times: user 373 ms, sys: 22.6 ms, total: 396 ms\n",
      "Wall time: 146 ms\n"
     ]
    }
   ],
   "source": [
    "%%time\n",
    "\n",
    "df_ohe['Temperature(F)'].fillna(df_ohe['Temperature(F)'].mean(), inplace=True)\n",
    "df_ohe['Wind_Chill(F)'].fillna(df_ohe['Temperature(F)'], inplace=True)   #Went with Temp due to Wind_Chill.mean() giving values that didn't make sense.\n",
    "df_ohe['Wind_Speed(mph)'].fillna(df_ohe['Wind_Speed(mph)'].mean(), inplace=True)\n",
    "#df_ohe['Precipitation(in)'].fillna(df_ohe['Precipitation(in)'].mean(), inplace=True)\n",
    "df_ohe['Humidity(%)'].fillna(df_ohe['Humidity(%)'].mean(), inplace=True)\n",
    "df_ohe['Pressure(in)'].fillna(df_ohe['Pressure(in)'].mean(), inplace=True)\n",
    "df_ohe['Visibility(mi)'].fillna(df_ohe['Visibility(mi)'].mean(), inplace=True)\n",
    "\n"
   ]
  },
  {
   "cell_type": "markdown",
   "metadata": {},
   "source": [
    "## Split into train/test"
   ]
  },
  {
   "cell_type": "code",
   "execution_count": 14,
   "metadata": {},
   "outputs": [
    {
     "name": "stdout",
     "output_type": "stream",
     "text": [
      "    ID    Source    TMC  Severity          Start_Time            End_Time  \\\n",
      "0  A-1  MapQuest  201.0         3 2016-02-08 05:46:00 2016-02-08 11:00:00   \n",
      "1  A-2  MapQuest  201.0         2 2016-02-08 06:07:59 2016-02-08 06:37:59   \n",
      "2  A-3  MapQuest  201.0         2 2016-02-08 06:49:27 2016-02-08 07:19:27   \n",
      "3  A-4  MapQuest  201.0         3 2016-02-08 07:23:34 2016-02-08 07:53:34   \n",
      "4  A-5  MapQuest  201.0         2 2016-02-08 07:39:07 2016-02-08 08:09:07   \n",
      "\n",
      "   Start_Lat  Start_Lng  End_Lat  End_Lng  Distance(mi)  \\\n",
      "0  39.865147 -84.058723      NaN      NaN          0.01   \n",
      "1  39.928059 -82.831184      NaN      NaN          0.01   \n",
      "2  39.063148 -84.032608      NaN      NaN          0.01   \n",
      "3  39.747753 -84.205582      NaN      NaN          0.01   \n",
      "4  39.627781 -84.188354      NaN      NaN          0.01   \n",
      "\n",
      "                                         Description  Number  \\\n",
      "0  Right lane blocked due to accident on I-70 Eas...     NaN   \n",
      "1  Accident on Brice Rd at Tussing Rd. Expect del...  2584.0   \n",
      "2  Accident on OH-32 State Route 32 Westbound at ...     NaN   \n",
      "3  Accident on I-75 Southbound at Exits 52 52B US...     NaN   \n",
      "4  Accident on McEwen Rd at OH-725 Miamisburg Cen...     NaN   \n",
      "\n",
      "                      Street Side          City      County State     Zipcode  \\\n",
      "0                     I-70 E    R        Dayton  Montgomery    OH       45424   \n",
      "1                   Brice Rd    L  Reynoldsburg    Franklin    OH  43068-3402   \n",
      "2             State Route 32    R  Williamsburg    Clermont    OH       45176   \n",
      "3                     I-75 S    R        Dayton  Montgomery    OH       45417   \n",
      "4  Miamisburg Centerville Rd    R        Dayton  Montgomery    OH       45459   \n",
      "\n",
      "  Country Airport_Code   Weather_Timestamp  Temperature(F)  Wind_Chill(F)  \\\n",
      "0      US         KFFO 2016-02-08 05:58:00            36.9           36.9   \n",
      "1      US         KCMH 2016-02-08 05:51:00            37.9           37.9   \n",
      "2      US         KI69 2016-02-08 06:56:00            36.0           33.3   \n",
      "3      US         KDAY 2016-02-08 07:38:00            35.1           31.0   \n",
      "4      US         KMGY 2016-02-08 07:53:00            36.0           33.3   \n",
      "\n",
      "   Humidity(%)  Pressure(in)  Visibility(mi)  Wind_Speed(mph)  \\\n",
      "0         91.0         29.68            10.0         8.298064   \n",
      "1        100.0         29.65            10.0         8.298064   \n",
      "2        100.0         29.67            10.0         3.500000   \n",
      "3         96.0         29.64             9.0         4.600000   \n",
      "4         89.0         29.65             6.0         3.500000   \n",
      "\n",
      "   Precipitation(in)  Duration(s)  Start_Hour  Start_Month  Weekend  \\\n",
      "0               0.02        18840           5            2        0   \n",
      "1               0.00         1800           6            2        0   \n",
      "2                NaN         1800           6            2        0   \n",
      "3                NaN         1800           7            2        0   \n",
      "4                NaN         1800           7            2        0   \n",
      "\n",
      "   Precipitation  Timezone_US/Central  Timezone_US/Eastern  \\\n",
      "0              1                    0                    1   \n",
      "1              0                    0                    1   \n",
      "2              0                    0                    1   \n",
      "3              0                    0                    1   \n",
      "4              0                    0                    1   \n",
      "\n",
      "   Timezone_US/Mountain  Timezone_US/Pacific  Wind_Direction_CALM  \\\n",
      "0                     0                    0                    1   \n",
      "1                     0                    0                    1   \n",
      "2                     0                    0                    0   \n",
      "3                     0                    0                    0   \n",
      "4                     0                    0                    0   \n",
      "\n",
      "   Wind_Direction_E  Wind_Direction_ENE  Wind_Direction_ESE  Wind_Direction_N  \\\n",
      "0                 0                   0                   0                 0   \n",
      "1                 0                   0                   0                 0   \n",
      "2                 0                   0                   0                 0   \n",
      "3                 0                   0                   0                 0   \n",
      "4                 0                   0                   0                 0   \n",
      "\n",
      "   Wind_Direction_NE  Wind_Direction_NNE  Wind_Direction_NNW  \\\n",
      "0                  0                   0                   0   \n",
      "1                  0                   0                   0   \n",
      "2                  0                   0                   0   \n",
      "3                  0                   0                   0   \n",
      "4                  0                   0                   0   \n",
      "\n",
      "   Wind_Direction_NW  Wind_Direction_S  Wind_Direction_SE  Wind_Direction_SSE  \\\n",
      "0                  0                 0                  0                   0   \n",
      "1                  0                 0                  0                   0   \n",
      "2                  0                 0                  0                   0   \n",
      "3                  0                 0                  0                   0   \n",
      "4                  0                 0                  0                   0   \n",
      "\n",
      "   Wind_Direction_SSW  Wind_Direction_SW  Wind_Direction_VAR  \\\n",
      "0                   0                  0                   0   \n",
      "1                   0                  0                   0   \n",
      "2                   0                  1                   0   \n",
      "3                   0                  1                   0   \n",
      "4                   0                  1                   0   \n",
      "\n",
      "   Wind_Direction_W  Wind_Direction_WNW  Wind_Direction_WSW  \\\n",
      "0                 0                   0                   0   \n",
      "1                 0                   0                   0   \n",
      "2                 0                   0                   0   \n",
      "3                 0                   0                   0   \n",
      "4                 0                   0                   0   \n",
      "\n",
      "   Weather_Condition_Clear  Weather_Condition_Dust  Weather_Condition_Fog  \\\n",
      "0                        0                       0                      0   \n",
      "1                        0                       0                      0   \n",
      "2                        0                       0                      0   \n",
      "3                        0                       0                      0   \n",
      "4                        0                       0                      0   \n",
      "\n",
      "   Weather_Condition_Funnel Cloud  Weather_Condition_Hail  \\\n",
      "0                               0                       0   \n",
      "1                               0                       0   \n",
      "2                               0                       0   \n",
      "3                               0                       0   \n",
      "4                               0                       0   \n",
      "\n",
      "   Weather_Condition_Overcast  Weather_Condition_Rain  \\\n",
      "0                           0                       1   \n",
      "1                           0                       1   \n",
      "2                           1                       0   \n",
      "3                           1                       0   \n",
      "4                           1                       0   \n",
      "\n",
      "   Weather_Condition_Sleet  Weather_Condition_Snow  Weather_Condition_Thunder  \\\n",
      "0                        0                       0                          0   \n",
      "1                        0                       0                          0   \n",
      "2                        0                       0                          0   \n",
      "3                        0                       0                          0   \n",
      "4                        0                       0                          0   \n",
      "\n",
      "   Weather_Condition_Thunderstorm  Weather_Condition_Tornado  \\\n",
      "0                               0                          0   \n",
      "1                               0                          0   \n",
      "2                               0                          0   \n",
      "3                               0                          0   \n",
      "4                               0                          0   \n",
      "\n",
      "   Sunrise_Sunset_Day  Sunrise_Sunset_Night  Civil_Twilight_Day  \\\n",
      "0                   0                     1                   0   \n",
      "1                   0                     1                   0   \n",
      "2                   0                     1                   0   \n",
      "3                   0                     1                   1   \n",
      "4                   1                     0                   1   \n",
      "\n",
      "   Civil_Twilight_Night  Nautical_Twilight_Day  Nautical_Twilight_Night  \\\n",
      "0                     1                      0                        1   \n",
      "1                     1                      0                        1   \n",
      "2                     1                      1                        0   \n",
      "3                     0                      1                        0   \n",
      "4                     0                      1                        0   \n",
      "\n",
      "   Astronomical_Twilight_Day  Astronomical_Twilight_Night  \n",
      "0                          0                            1  \n",
      "1                          1                            0  \n",
      "2                          1                            0  \n",
      "3                          1                            0  \n",
      "4                          1                            0  \n",
      "['ID', 'Source', 'TMC', 'Severity', 'Start_Time', 'End_Time', 'Start_Lat', 'Start_Lng', 'End_Lat', 'End_Lng', 'Distance(mi)', 'Description', 'Number', 'Street', 'Side', 'City', 'County', 'State', 'Zipcode', 'Country', 'Airport_Code', 'Weather_Timestamp', 'Temperature(F)', 'Wind_Chill(F)', 'Humidity(%)', 'Pressure(in)', 'Visibility(mi)', 'Wind_Speed(mph)', 'Precipitation(in)', 'Duration(s)', 'Start_Hour', 'Start_Month', 'Weekend', 'Precipitation', 'Timezone_US/Central', 'Timezone_US/Eastern', 'Timezone_US/Mountain', 'Timezone_US/Pacific', 'Wind_Direction_CALM', 'Wind_Direction_E', 'Wind_Direction_ENE', 'Wind_Direction_ESE', 'Wind_Direction_N', 'Wind_Direction_NE', 'Wind_Direction_NNE', 'Wind_Direction_NNW', 'Wind_Direction_NW', 'Wind_Direction_S', 'Wind_Direction_SE', 'Wind_Direction_SSE', 'Wind_Direction_SSW', 'Wind_Direction_SW', 'Wind_Direction_VAR', 'Wind_Direction_W', 'Wind_Direction_WNW', 'Wind_Direction_WSW', 'Weather_Condition_Clear', 'Weather_Condition_Dust', 'Weather_Condition_Fog', 'Weather_Condition_Funnel Cloud', 'Weather_Condition_Hail', 'Weather_Condition_Overcast', 'Weather_Condition_Rain', 'Weather_Condition_Sleet', 'Weather_Condition_Snow', 'Weather_Condition_Thunder', 'Weather_Condition_Thunderstorm', 'Weather_Condition_Tornado', 'Sunrise_Sunset_Day', 'Sunrise_Sunset_Night', 'Civil_Twilight_Day', 'Civil_Twilight_Night', 'Nautical_Twilight_Day', 'Nautical_Twilight_Night', 'Astronomical_Twilight_Day', 'Astronomical_Twilight_Night']\n"
     ]
    }
   ],
   "source": [
    "print(df_ohe.head())\n",
    "\n",
    "print(list(df_ohe.columns))\n",
    "\n",
    "train, test = train_test_split(df_ohe, test_size = 0.3, random_state = 126)\n"
   ]
  },
  {
   "cell_type": "code",
   "execution_count": 15,
   "metadata": {},
   "outputs": [
    {
     "name": "stdout",
     "output_type": "stream",
     "text": [
      "End_Lat                           2246264\n",
      "End_Lng                           2246264\n",
      "Precipitation(in)                 1998358\n",
      "Number                            1917605\n",
      "TMC                                728071\n",
      "Weather_Timestamp                   36705\n",
      "Airport_Code                         5691\n",
      "Zipcode                               880\n",
      "City                                   83\n",
      "Description                             1\n",
      "Start_Hour                              0\n",
      "Start_Month                             0\n",
      "Weekend                                 0\n",
      "Temperature(F)                          0\n",
      "Precipitation                           0\n",
      "Timezone_US/Central                     0\n",
      "Wind_Speed(mph)                         0\n",
      "Visibility(mi)                          0\n",
      "Pressure(in)                            0\n",
      "Humidity(%)                             0\n",
      "Wind_Chill(F)                           0\n",
      "Timezone_US/Eastern                     0\n",
      "Duration(s)                             0\n",
      "Astronomical_Twilight_Night             0\n",
      "Country                                 0\n",
      "Astronomical_Twilight_Day               0\n",
      "State                                   0\n",
      "County                                  0\n",
      "Side                                    0\n",
      "Street                                  0\n",
      "                                   ...   \n",
      "Weather_Condition_Snow                  0\n",
      "Weather_Condition_Thunder               0\n",
      "Weather_Condition_Thunderstorm          0\n",
      "Weather_Condition_Tornado               0\n",
      "Sunrise_Sunset_Day                      0\n",
      "Sunrise_Sunset_Night                    0\n",
      "Civil_Twilight_Day                      0\n",
      "Civil_Twilight_Night                    0\n",
      "Nautical_Twilight_Day                   0\n",
      "Nautical_Twilight_Night                 0\n",
      "Weather_Condition_Fog                   0\n",
      "Weather_Condition_Clear                 0\n",
      "Wind_Direction_E                        0\n",
      "Wind_Direction_WSW                      0\n",
      "Wind_Direction_ENE                      0\n",
      "Wind_Direction_ESE                      0\n",
      "Wind_Direction_N                        0\n",
      "Wind_Direction_NE                       0\n",
      "Wind_Direction_NNE                      0\n",
      "Wind_Direction_NNW                      0\n",
      "Wind_Direction_NW                       0\n",
      "Wind_Direction_S                        0\n",
      "Wind_Direction_SE                       0\n",
      "Wind_Direction_SSE                      0\n",
      "Wind_Direction_SSW                      0\n",
      "Wind_Direction_SW                       0\n",
      "Wind_Direction_VAR                      0\n",
      "Wind_Direction_W                        0\n",
      "Wind_Direction_WNW                      0\n",
      "ID                                      0\n",
      "Length: 76, dtype: int64\n"
     ]
    }
   ],
   "source": [
    "print(df_ohe.isnull().sum().sort_values(ascending = False))"
   ]
  },
  {
   "cell_type": "markdown",
   "metadata": {},
   "source": [
    "## Scatterplots"
   ]
  },
  {
   "cell_type": "code",
   "execution_count": 10,
   "metadata": {},
   "outputs": [
    {
     "name": "stderr",
     "output_type": "stream",
     "text": [
      "/Users/nathancrugge/anaconda3/lib/python3.6/site-packages/scipy/stats/stats.py:1713: FutureWarning: Using a non-tuple sequence for multidimensional indexing is deprecated; use `arr[tuple(seq)]` instead of `arr[seq]`. In the future this will be interpreted as an array index, `arr[np.array(seq)]`, which will result either in an error or a different result.\n",
      "  return np.add.reduce(sorted[indexer] * weights, axis=axis) / sumval\n"
     ]
    },
    {
     "data": {
      "text/plain": [
       "<seaborn.axisgrid.FacetGrid at 0x10eaefa58>"
      ]
     },
     "execution_count": 10,
     "metadata": {},
     "output_type": "execute_result"
    },
    {
     "data": {
      "image/png": "[encoded data removed]",
      "text/plain": [
       "<Figure size 360x360 with 1 Axes>"
      ]
     },
     "metadata": {
      "needs_background": "light"
     },
     "output_type": "display_data"
    }
   ],
   "source": [
    "sns.lmplot('Temperature(F)', 'Duration(s)', train)\n"
   ]
  },
  {
   "cell_type": "code",
   "execution_count": 11,
   "metadata": {},
   "outputs": [
    {
     "data": {
      "text/plain": [
       "<seaborn.axisgrid.FacetGrid at 0x1a8ad50cc0>"
      ]
     },
     "execution_count": 11,
     "metadata": {},
     "output_type": "execute_result"
    },
    {
     "data": {
      "image/png": "[encoded data removed]",
      "text/plain": [
       "<Figure size 360x360 with 1 Axes>"
      ]
     },
     "metadata": {
      "needs_background": "light"
     },
     "output_type": "display_data"
    }
   ],
   "source": [
    "sns.lmplot('Wind_Chill(F)', 'Duration(s)', train)"
   ]
  },
  {
   "cell_type": "code",
   "execution_count": 12,
   "metadata": {},
   "outputs": [
    {
     "data": {
      "text/plain": [
       "<seaborn.axisgrid.FacetGrid at 0x1a9ad168d0>"
      ]
     },
     "execution_count": 12,
     "metadata": {},
     "output_type": "execute_result"
    },
    {
     "data": {
      "image/png": "[encoded data removed]",
      "text/plain": [
       "<Figure size 360x360 with 1 Axes>"
      ]
     },
     "metadata": {
      "needs_background": "light"
     },
     "output_type": "display_data"
    }
   ],
   "source": [
    "sns.lmplot('Humidity(%)', 'Duration(s)', train)"
   ]
  },
  {
   "cell_type": "code",
   "execution_count": 13,
   "metadata": {},
   "outputs": [
    {
     "data": {
      "text/plain": [
       "<seaborn.axisgrid.FacetGrid at 0x1a5d7d0a58>"
      ]
     },
     "execution_count": 13,
     "metadata": {},
     "output_type": "execute_result"
    },
    {
     "data": {
      "image/png": "[encoded data removed]",
      "text/plain": [
       "<Figure size 360x360 with 1 Axes>"
      ]
     },
     "metadata": {
      "needs_background": "light"
     },
     "output_type": "display_data"
    }
   ],
   "source": [
    "sns.lmplot('Pressure(in)', 'Duration(s)', train)"
   ]
  },
  {
   "cell_type": "markdown",
   "metadata": {},
   "source": [
    "# Feature Selection\n",
    "## Random Forest & Gradient Boosting Regressors"
   ]
  },
  {
   "cell_type": "code",
   "execution_count": 50,
   "metadata": {},
   "outputs": [
    {
     "name": "stdout",
     "output_type": "stream",
     "text": [
      "(2082034, 46)\n",
      "(2082034,)\n"
     ]
    }
   ],
   "source": [
    "# Excluded potential predictors:\n",
    "# Pressure(in) - There is a mass point at ~30, which is also where all the severity is (was massively skewing the lasso results); probably some default value?\n",
    "# Precipitation(in) - Used a y/n based on this field plus Weather_Condition instead\n",
    "# Removed all of the _Night dummy variables, since I'm including the _Day versions\n",
    "predictor_cols = ['Temperature(F)', 'Wind_Chill(F)', 'Humidity(%)', 'Visibility(mi)', 'Wind_Speed(mph)',  \n",
    "                  'Start_Hour', 'Start_Month', 'Weekend', 'Precipitation', 'Timezone_US/Central', 'Timezone_US/Eastern', 'Timezone_US/Mountain', \n",
    "                  'Timezone_US/Pacific', 'Wind_Direction_CALM', 'Wind_Direction_E', 'Wind_Direction_ENE', 'Wind_Direction_ESE', \n",
    "                  'Wind_Direction_N', 'Wind_Direction_NE', 'Wind_Direction_NNE', 'Wind_Direction_NNW', 'Wind_Direction_NW', 'Wind_Direction_S', \n",
    "                  'Wind_Direction_SE', 'Wind_Direction_SSE', 'Wind_Direction_SSW', 'Wind_Direction_SW', 'Wind_Direction_VAR', 'Wind_Direction_W',\n",
    "                  'Wind_Direction_WNW', 'Wind_Direction_WSW', 'Weather_Condition_Clear', 'Weather_Condition_Dust', 'Weather_Condition_Fog', \n",
    "                  'Weather_Condition_Funnel Cloud', 'Weather_Condition_Hail', 'Weather_Condition_Overcast', 'Weather_Condition_Rain', \n",
    "                  'Weather_Condition_Sleet', 'Weather_Condition_Snow', 'Weather_Condition_Thunderstorm', 'Weather_Condition_Tornado', \n",
    "                  'Sunrise_Sunset_Day', 'Civil_Twilight_Day', 'Nautical_Twilight_Day', 'Astronomical_Twilight_Day']\n",
    "\n",
    "x_train = pd.DataFrame(train, columns = predictor_cols)\n",
    "x_test = pd.DataFrame(test, columns = predictor_cols)\n",
    "\n",
    "y_train = train['Duration(s)']\n",
    "y_test = test['Duration(s)']\n",
    "\n",
    "y_train2 = train['Severity']\n",
    "y_test2 = test['Severity']\n",
    "\n",
    "print(x_train.shape)\n",
    "print(y_train.shape)"
   ]
  },
  {
   "cell_type": "markdown",
   "metadata": {},
   "source": [
    "### Random Forest Regressor"
   ]
  },
  {
   "cell_type": "code",
   "execution_count": 21,
   "metadata": {},
   "outputs": [
    {
     "name": "stderr",
     "output_type": "stream",
     "text": [
      "/Users/nathancrugge/anaconda3/lib/python3.6/site-packages/sklearn/ensemble/forest.py:246: FutureWarning: The default value of n_estimators will change from 10 in version 0.20 to 100 in 0.22.\n",
      "  \"10 in version 0.20 to 100 in 0.22.\", FutureWarning)\n",
      "/Users/nathancrugge/anaconda3/lib/python3.6/site-packages/sklearn/ensemble/forest.py:732: UserWarning: Some inputs do not have OOB scores. This probably means too few trees were used to compute any reliable oob estimates.\n",
      "  warn(\"Some inputs do not have OOB scores. \"\n"
     ]
    },
    {
     "data": {
      "text/plain": [
       "RandomForestRegressor(bootstrap=True, criterion='mse', max_depth=None,\n",
       "           max_features='auto', max_leaf_nodes=None,\n",
       "           min_impurity_decrease=0.0, min_impurity_split=None,\n",
       "           min_samples_leaf=1, min_samples_split=2,\n",
       "           min_weight_fraction_leaf=0.0, n_estimators=10, n_jobs=None,\n",
       "           oob_score=True, random_state=126, verbose=0, warm_start=False)"
      ]
     },
     "execution_count": 21,
     "metadata": {},
     "output_type": "execute_result"
    },
    {
     "name": "stdout",
     "output_type": "stream",
     "text": [
      "                            importance\n",
      "Temperature(F)                0.138426\n",
      "Pressure(in)                  0.137268\n",
      "Start_Hour                    0.135288\n",
      "Humidity(%)                   0.118437\n",
      "Wind_Speed(mph)               0.076725\n",
      "Wind_Chill(F)                 0.075346\n",
      "Wind_Direction_WSW            0.051423\n",
      "Visibility(mi)                0.045431\n",
      "Start_Month                   0.034269\n",
      "Weather_Condition_Clear       0.034134\n",
      "Weekend                       0.027063\n",
      "Civil_Twilight_Day            0.026698\n",
      "Weather_Condition_Overcast    0.018150\n",
      "Timezone_US/Eastern           0.017114\n",
      "Sunrise_Sunset_Day            0.015136\n",
      "Training OOB Accuracy: \n",
      "-0.16283669621517127\n"
     ]
    }
   ],
   "source": [
    "# Train on actual duration\n",
    "rfreg = RandomForestRegressor(random_state = 126, oob_score = True)\n",
    "rfreg.fit(x_train, y_train)\n",
    "\n",
    "feature_importances = pd.DataFrame(rfreg.feature_importances_,\n",
    "                                   index = x_train.columns,\n",
    "                                    columns=['importance']).sort_values('importance',  ascending=False)\n",
    "print(feature_importances.head(15))\n",
    "print(\"Training OOB Accuracy: \")\n",
    "print(rfreg.oob_score_)"
   ]
  },
  {
   "cell_type": "code",
   "execution_count": 34,
   "metadata": {},
   "outputs": [
    {
     "name": "stderr",
     "output_type": "stream",
     "text": [
      "/Users/nathancrugge/anaconda3/lib/python3.6/site-packages/sklearn/ensemble/forest.py:246: FutureWarning: The default value of n_estimators will change from 10 in version 0.20 to 100 in 0.22.\n",
      "  \"10 in version 0.20 to 100 in 0.22.\", FutureWarning)\n",
      "/Users/nathancrugge/anaconda3/lib/python3.6/site-packages/sklearn/ensemble/forest.py:732: UserWarning: Some inputs do not have OOB scores. This probably means too few trees were used to compute any reliable oob estimates.\n",
      "  warn(\"Some inputs do not have OOB scores. \"\n"
     ]
    },
    {
     "data": {
      "text/plain": [
       "RandomForestRegressor(bootstrap=True, criterion='mse', max_depth=None,\n",
       "           max_features='auto', max_leaf_nodes=None,\n",
       "           min_impurity_decrease=0.0, min_impurity_split=None,\n",
       "           min_samples_leaf=1, min_samples_split=2,\n",
       "           min_weight_fraction_leaf=0.0, n_estimators=10, n_jobs=None,\n",
       "           oob_score=True, random_state=126, verbose=0, warm_start=False)"
      ]
     },
     "execution_count": 34,
     "metadata": {},
     "output_type": "execute_result"
    },
    {
     "name": "stdout",
     "output_type": "stream",
     "text": [
      "                            importance\n",
      "Pressure(in)                  0.173470\n",
      "Humidity(%)                   0.143450\n",
      "Wind_Chill(F)                 0.094388\n",
      "Wind_Speed(mph)               0.092037\n",
      "Temperature(F)                0.086601\n",
      "Start_Hour                    0.080376\n",
      "Start_Month                   0.052965\n",
      "Visibility(mi)                0.032771\n",
      "Weekend                       0.018329\n",
      "Wind_Direction_S              0.011303\n",
      "Timezone_US/Pacific           0.010757\n",
      "Wind_Direction_W              0.010678\n",
      "Weather_Condition_Overcast    0.010388\n",
      "Wind_Direction_N              0.010035\n",
      "Weather_Condition_Clear       0.009625\n",
      "Training OOB Accuracy: \n",
      "-0.2988461242007012\n"
     ]
    }
   ],
   "source": [
    "# Train on 1 to 4 severity rating\n",
    "rfreg2 = RandomForestRegressor(random_state = 126, oob_score = True)\n",
    "rfreg2.fit(x_train, y_train2)\n",
    "\n",
    "feature_importances2 = pd.DataFrame(rfreg2.feature_importances_,\n",
    "                                   index = x_train.columns,\n",
    "                                    columns=['importance']).sort_values('importance',  ascending=False)\n",
    "print(feature_importances2.head(15))\n",
    "print(\"Training OOB Accuracy: \")\n",
    "print(rfreg2.oob_score_)"
   ]
  },
  {
   "cell_type": "markdown",
   "metadata": {},
   "source": [
    "### Gradient Boosting Regressor"
   ]
  },
  {
   "cell_type": "code",
   "execution_count": 37,
   "metadata": {},
   "outputs": [
    {
     "data": {
      "text/plain": [
       "GradientBoostingRegressor(alpha=0.9, criterion='friedman_mse', init=None,\n",
       "             learning_rate=0.1, loss='ls', max_depth=3, max_features=None,\n",
       "             max_leaf_nodes=None, min_impurity_decrease=0.0,\n",
       "             min_impurity_split=None, min_samples_leaf=1,\n",
       "             min_samples_split=2, min_weight_fraction_leaf=0.0,\n",
       "             n_estimators=100, n_iter_no_change=None, presort='auto',\n",
       "             random_state=126, subsample=0.5, tol=0.0001,\n",
       "             validation_fraction=0.1, verbose=0, warm_start=False)"
      ]
     },
     "execution_count": 37,
     "metadata": {},
     "output_type": "execute_result"
    },
    {
     "name": "stdout",
     "output_type": "stream",
     "text": [
      "                             importance\n",
      "Weekend                        0.517448\n",
      "Astronomical_Twilight_Night    0.148930\n",
      "Wind_Direction_WSW             0.102358\n",
      "Wind_Direction_VAR             0.071715\n",
      "Wind_Chill(F)                  0.064373\n",
      "Humidity(%)                    0.021119\n",
      "Wind_Speed(mph)                0.013905\n",
      "Civil_Twilight_Night           0.010784\n",
      "Temperature(F)                 0.009246\n",
      "Sunrise_Sunset_Night           0.007961\n",
      "Start_Hour                     0.007621\n",
      "Pressure(in)                   0.007347\n",
      "Astronomical_Twilight_Day      0.005336\n",
      "Wind_Direction_N               0.003585\n",
      "Visibility(mi)                 0.002483\n",
      "Training OOB Accuracy: \n",
      "[ 6.92937798e+07  1.32393547e+06  6.32728192e+06 -1.63774170e+07\n",
      "  4.86764836e+05 -1.43575408e+06 -1.56346361e+06  3.88233380e+07\n",
      "  1.34610818e+06  8.15550514e+05 -1.63547127e+07  3.12124660e+06\n",
      "  3.44265202e+08  1.19068544e+08  2.08285269e+08 -1.94778617e+07\n",
      " -9.86423215e+04  1.94868213e+07  6.57120736e+06  1.25942526e+08\n",
      " -1.93364483e+07 -5.47554235e+07 -1.90938097e+07  1.30745958e+07\n",
      "  2.13320466e+07  6.34532217e+07  2.98129149e+06  1.59283863e+08\n",
      "  3.68139423e+07  2.28243514e+08  2.08044199e+07 -3.04521349e+05\n",
      "  1.51051663e+07  1.56668764e+07  1.90762934e+07 -1.91997188e+06\n",
      "  6.79254009e+06 -1.29622093e+05  1.40390644e+07  2.82933740e+06\n",
      "  1.22898680e+06  1.55003691e+06  2.19848348e+05 -4.87013365e+06\n",
      " -7.21123687e+07  2.40396437e+04  9.47076505e+05  3.22211140e+06\n",
      "  5.27906007e+06 -4.23652823e+07 -9.67568167e+07  4.46084557e+06\n",
      " -2.32096170e+08  1.31585564e+06 -1.14242051e+08 -7.37801761e+06\n",
      "  2.93087482e+05 -1.36776415e+05  1.28566477e+06  2.18867892e+03\n",
      " -7.54942776e+06 -1.29925240e+07 -7.21415723e+07  7.73507446e+05\n",
      " -8.23184831e+06 -4.40562566e+06 -2.88130205e+07 -3.22071134e+07\n",
      " -9.77555166e+05 -6.38292921e+07 -5.38427173e+05  6.00022566e+05\n",
      " -5.29098565e+05 -3.69238140e+07 -8.11337437e+05  1.04097846e+07\n",
      "  3.30042857e+06  3.18349212e+05  1.46620902e+06 -3.92139099e+07\n",
      " -7.03973466e+07 -3.08268936e+07 -1.45286664e+07  1.19820525e+06\n",
      "  4.11295680e+06 -6.28732075e+06  3.22059049e+05 -2.99642091e+05\n",
      " -8.44544261e+07 -7.39680985e+06 -1.03948755e+08  1.08518882e+06\n",
      " -6.25728017e+05 -9.40706031e+06 -7.18346101e+04  1.31318180e+07\n",
      " -2.51897713e+05  8.48830484e+05  5.05388590e+06 -1.90970585e+07]\n"
     ]
    }
   ],
   "source": [
    "# Train on actual duration\n",
    "gbreg = GradientBoostingRegressor(random_state = 126, subsample = 0.5)\n",
    "gbreg.fit(x_train, y_train)\n",
    "\n",
    "gb_feature_importances = pd.DataFrame(gbreg.feature_importances_,\n",
    "                                   index = x_train.columns,\n",
    "                                    columns=['importance']).sort_values('importance',  ascending=False)\n",
    "print(gb_feature_importances.head(15))\n",
    "print(\"Training OOB Accuracy: \")\n",
    "print(gbreg.oob_improvement_)"
   ]
  },
  {
   "cell_type": "code",
   "execution_count": 38,
   "metadata": {},
   "outputs": [
    {
     "data": {
      "text/plain": [
       "GradientBoostingRegressor(alpha=0.9, criterion='friedman_mse', init=None,\n",
       "             learning_rate=0.1, loss='ls', max_depth=3, max_features=None,\n",
       "             max_leaf_nodes=None, min_impurity_decrease=0.0,\n",
       "             min_impurity_split=None, min_samples_leaf=1,\n",
       "             min_samples_split=2, min_weight_fraction_leaf=0.0,\n",
       "             n_estimators=100, n_iter_no_change=None, presort='auto',\n",
       "             random_state=126, subsample=0.5, tol=0.0001,\n",
       "             validation_fraction=0.1, verbose=0, warm_start=False)"
      ]
     },
     "execution_count": 38,
     "metadata": {},
     "output_type": "execute_result"
    },
    {
     "name": "stdout",
     "output_type": "stream",
     "text": [
      "                           importance\n",
      "Weekend                      0.287246\n",
      "Start_Hour                   0.176716\n",
      "Timezone_US/Pacific          0.114529\n",
      "Timezone_US/Eastern          0.092610\n",
      "Pressure(in)                 0.074907\n",
      "Start_Month                  0.056206\n",
      "Wind_Speed(mph)              0.040258\n",
      "Astronomical_Twilight_Day    0.037193\n",
      "Nautical_Twilight_Day        0.027322\n",
      "Wind_Chill(F)                0.020763\n",
      "Sunrise_Sunset_Day           0.009467\n",
      "Timezone_US/Central          0.009111\n",
      "Temperature(F)               0.006822\n",
      "Weather_Condition_Clear      0.006722\n",
      "Civil_Twilight_Night         0.006696\n",
      "Training OOB Improvement: \n",
      "[1.89159134e-03 1.53658342e-03 1.31627354e-03 1.08391092e-03\n",
      " 9.16226237e-04 8.88239945e-04 6.50663571e-04 6.59989927e-04\n",
      " 4.73320737e-04 4.30628322e-04 4.38268378e-04 4.77339539e-04\n",
      " 3.54299852e-04 2.59601850e-04 3.35077106e-04 2.01486810e-04\n",
      " 2.66590565e-04 3.20553295e-04 1.85596327e-04 1.60550862e-04\n",
      " 1.37878354e-04 1.67905802e-04 1.62782728e-04 1.27804520e-04\n",
      " 1.89502799e-04 1.81115366e-04 1.23342297e-04 1.17873417e-04\n",
      " 1.02314966e-04 9.04313985e-05 1.18756470e-04 1.03580534e-04\n",
      " 1.04926073e-04 6.10463257e-05 9.86492504e-05 8.63101532e-05\n",
      " 6.65761474e-05 7.90877972e-05 5.80159191e-05 7.58389802e-05\n",
      " 4.12625618e-05 1.19346270e-04 4.28326538e-05 5.16268750e-05\n",
      " 4.57013175e-05 6.32274552e-05 4.41413486e-05 4.94518159e-05\n",
      " 9.99524247e-05 5.46435434e-05 2.58872835e-05 4.61161134e-05\n",
      " 4.11645470e-05 5.40267018e-05 4.47759542e-05 3.63096380e-05\n",
      " 2.41710305e-05 3.00598160e-05 2.87938752e-05 5.15639872e-05\n",
      " 4.08656878e-05 5.05935646e-05 3.03569271e-05 4.31380336e-05\n",
      " 1.83116482e-05 2.97202936e-05 3.02820009e-05 7.16885607e-05\n",
      " 3.63378551e-05 1.61058207e-05 2.95893850e-05 1.25784166e-05\n",
      " 3.03676237e-05 2.82330271e-05 1.35080321e-05 2.96519538e-05\n",
      " 3.56862278e-05 3.08765073e-05 3.18818911e-05 1.49649109e-05\n",
      " 1.98220914e-05 3.58385544e-05 1.81129155e-05 2.16694313e-05\n",
      " 1.60260053e-05 1.73349053e-05 1.08172018e-05 1.88585481e-05\n",
      " 3.43761098e-05 1.00574229e-05 1.42325067e-05 1.40269231e-05\n",
      " 1.18021605e-05 8.38182206e-06 2.79081433e-05 1.74308847e-05\n",
      " 1.03814231e-05 2.22091200e-05 3.98877703e-06 1.17985192e-05]\n"
     ]
    }
   ],
   "source": [
    "# Train on 1 to 4 severity rating\n",
    "gbreg2 = GradientBoostingRegressor(random_state = 126, subsample = 0.5)\n",
    "gbreg2.fit(x_train, y_train2)\n",
    "\n",
    "gb_feature_importances2 = pd.DataFrame(gbreg2.feature_importances_,\n",
    "                                   index = x_train.columns,\n",
    "                                    columns=['importance']).sort_values('importance',  ascending=False)\n",
    "print(gb_feature_importances2.head(15))\n",
    "print(\"Training OOB Improvement: \")\n",
    "print(gbreg2.oob_improvement_)"
   ]
  },
  {
   "cell_type": "markdown",
   "metadata": {},
   "source": [
    "### Lasso Regression"
   ]
  },
  {
   "cell_type": "code",
   "execution_count": 53,
   "metadata": {},
   "outputs": [
    {
     "name": "stdout",
     "output_type": "stream",
     "text": [
      "Computing regularization path using the lasso...\n",
      "Computing regularization path using the positive lasso...\n"
     ]
    },
    {
     "data": {
      "text/plain": [
       "<Figure size 432x288 with 0 Axes>"
      ]
     },
     "execution_count": 53,
     "metadata": {},
     "output_type": "execute_result"
    },
    {
     "data": {
      "text/plain": [
       "Text(0.5, 0, '-Log(alpha)')"
      ]
     },
     "execution_count": 53,
     "metadata": {},
     "output_type": "execute_result"
    },
    {
     "data": {
      "text/plain": [
       "Text(0, 0.5, 'coefficients')"
      ]
     },
     "execution_count": 53,
     "metadata": {},
     "output_type": "execute_result"
    },
    {
     "data": {
      "text/plain": [
       "Text(0.5, 1.0, 'Lasso and Positive Lasso Paths')"
      ]
     },
     "execution_count": 53,
     "metadata": {},
     "output_type": "execute_result"
    },
    {
     "data": {
      "text/plain": [
       "<matplotlib.legend.Legend at 0x1c5a2813c8>"
      ]
     },
     "execution_count": 53,
     "metadata": {},
     "output_type": "execute_result"
    },
    {
     "data": {
      "text/plain": [
       "(-3.895278087342583,\n",
       " -1.3641450921122038,\n",
       " -2810.1414578724107,\n",
       " 11553.296530196681)"
      ]
     },
     "execution_count": 53,
     "metadata": {},
     "output_type": "execute_result"
    },
    {
     "name": "stdout",
     "output_type": "stream",
     "text": [
      "-----------------------\n",
      "First Non-Zero Coefficient:\n",
      "['Astronomical_Twilight_Day']\n",
      "-----------------------\n",
      "First 2 Non-Zero Coefficients:\n",
      "['Humidity(%)', 'Astronomical_Twilight_Day']\n",
      "-----------------------\n",
      "Top 10 Non-Zero Coefficients:\n",
      "['Temperature(F)', 'Humidity(%)', 'Start_Month', 'Weekend', 'Timezone_US/Eastern', 'Wind_Direction_CALM', 'Wind_Direction_VAR', 'Wind_Direction_WSW', 'Weather_Condition_Clear', 'Civil_Twilight_Day']\n"
     ]
    },
    {
     "data": {
      "image/png": "[encoded data removed]",
      "text/plain": [
       "<Figure size 432x288 with 1 Axes>"
      ]
     },
     "metadata": {
      "needs_background": "light"
     },
     "output_type": "display_data"
    }
   ],
   "source": [
    "# Train using continuous duration response\n",
    "# Normalize X values\n",
    "x_train_std = ((x_train-x_train.min())/(x_train.max()-x_train.min()))\n",
    "\n",
    "# Compute paths\n",
    "eps = 5e-3  # the smaller it is the longer is the path\n",
    "\n",
    "print(\"Computing regularization path using the lasso...\")\n",
    "alphas_lasso, coefs_lasso, _ = lasso_path(x_train_std, y_train, eps, fit_intercept=False)\n",
    "\n",
    "print(\"Computing regularization path using the positive lasso...\")\n",
    "alphas_positive_lasso, coefs_positive_lasso, _ = lasso_path(\n",
    "    x_train_std, y_train, eps, positive=True, fit_intercept=False)\n",
    "\n",
    "# Display results\n",
    "plt.figure()\n",
    "colors = cycle(['b', 'r', 'g', 'c', 'k'])\n",
    "neg_log_alphas_lasso = -np.log10(alphas_lasso)\n",
    "neg_log_alphas_positive_lasso = -np.log10(alphas_positive_lasso)\n",
    "for coef_l, coef_pl, c in zip(coefs_lasso, coefs_positive_lasso, colors):\n",
    "    l1 = plt.plot(neg_log_alphas_lasso, coef_l, c=c)\n",
    "    l2 = plt.plot(neg_log_alphas_positive_lasso, coef_pl, linestyle='--', c=c)\n",
    "\n",
    "plt.xlabel('-Log(alpha)')\n",
    "plt.ylabel('coefficients')\n",
    "plt.title('Lasso and Positive Lasso Paths')\n",
    "plt.legend((l1[-1], l2[-1]), ('Lasso', 'Positive Lasso'), loc='lower left')\n",
    "plt.axis('tight')\n",
    "\n",
    "\n",
    "print('-----------------------')\n",
    "print('First Non-Zero Coefficient:')\n",
    "idx = np.array(np.nonzero(coefs_lasso[:,1]))[0]\n",
    "print([predictor_cols[i] for i in idx])\n",
    "\n",
    "print('-----------------------')\n",
    "print('First 2 Non-Zero Coefficients:')\n",
    "idx = np.array(np.nonzero(coefs_lasso[:,29]))[0]\n",
    "print([predictor_cols[i] for i in idx])\n",
    "\n",
    "print('-----------------------')\n",
    "print('Top 10 Non-Zero Coefficients:')\n",
    "idx = np.array(np.nonzero(coefs_lasso[:,75]))[0]\n",
    "print([predictor_cols[i] for i in idx])"
   ]
  },
  {
   "cell_type": "code",
   "execution_count": 55,
   "metadata": {},
   "outputs": [
    {
     "name": "stdout",
     "output_type": "stream",
     "text": [
      "Computing regularization path using the lasso...\n",
      "Computing regularization path using the positive lasso...\n"
     ]
    },
    {
     "data": {
      "text/plain": [
       "<Figure size 432x288 with 0 Axes>"
      ]
     },
     "execution_count": 55,
     "metadata": {},
     "output_type": "execute_result"
    },
    {
     "data": {
      "text/plain": [
       "Text(0.5, 0, '-Log(alpha)')"
      ]
     },
     "execution_count": 55,
     "metadata": {},
     "output_type": "execute_result"
    },
    {
     "data": {
      "text/plain": [
       "Text(0, 0.5, 'coefficients')"
      ]
     },
     "execution_count": 55,
     "metadata": {},
     "output_type": "execute_result"
    },
    {
     "data": {
      "text/plain": [
       "Text(0.5, 1.0, 'Lasso and Positive Lasso Paths')"
      ]
     },
     "execution_count": 55,
     "metadata": {},
     "output_type": "execute_result"
    },
    {
     "data": {
      "text/plain": [
       "<matplotlib.legend.Legend at 0x1c501d8160>"
      ]
     },
     "execution_count": 55,
     "metadata": {},
     "output_type": "execute_result"
    },
    {
     "data": {
      "text/plain": [
       "(-0.4270068134451222,\n",
       " 2.104126181785257,\n",
       " -0.1169949259958322,\n",
       " 2.456893445912476)"
      ]
     },
     "execution_count": 55,
     "metadata": {},
     "output_type": "execute_result"
    },
    {
     "name": "stdout",
     "output_type": "stream",
     "text": [
      "-----------------------\n",
      "First 10 Non-Zero Coefficients:\n",
      "['Temperature(F)', 'Humidity(%)', 'Start_Hour', 'Weekend', 'Timezone_US/Eastern', 'Timezone_US/Mountain', 'Timezone_US/Pacific', 'Weather_Condition_Clear', 'Weather_Condition_Overcast', 'Astronomical_Twilight_Day']\n"
     ]
    },
    {
     "data": {
      "image/png": "[encoded data removed]",
      "text/plain": [
       "<Figure size 432x288 with 1 Axes>"
      ]
     },
     "metadata": {
      "needs_background": "light"
     },
     "output_type": "display_data"
    }
   ],
   "source": [
    "# Train using 1 to 4 severity measure\n",
    "print(\"Computing regularization path using the lasso...\")\n",
    "alphas_lasso, coefs_lasso, _ = lasso_path(x_train_std, y_train2, eps, fit_intercept=False)\n",
    "\n",
    "print(\"Computing regularization path using the positive lasso...\")\n",
    "alphas_positive_lasso, coefs_positive_lasso, _ = lasso_path(\n",
    "    x_train_std, y_train2, eps, positive=True, fit_intercept=False)\n",
    "\n",
    "# Display results\n",
    "plt.figure()\n",
    "colors = cycle(['b', 'r', 'g', 'c', 'k'])\n",
    "neg_log_alphas_lasso = -np.log10(alphas_lasso)\n",
    "neg_log_alphas_positive_lasso = -np.log10(alphas_positive_lasso)\n",
    "for coef_l, coef_pl, c in zip(coefs_lasso, coefs_positive_lasso, colors):\n",
    "    l1 = plt.plot(neg_log_alphas_lasso, coef_l, c=c)\n",
    "    l2 = plt.plot(neg_log_alphas_positive_lasso, coef_pl, linestyle='--', c=c)\n",
    "\n",
    "plt.xlabel('-Log(alpha)')\n",
    "plt.ylabel('coefficients')\n",
    "plt.title('Lasso and Positive Lasso Paths')\n",
    "plt.legend((l1[-1], l2[-1]), ('Lasso', 'Positive Lasso'), loc='lower left')\n",
    "plt.axis('tight')\n",
    "\n",
    "idx = np.array(np.nonzero(coefs_lasso[:,99]))[0]\n",
    "\n",
    "print('-----------------------')\n",
    "print('First 10 Non-Zero Coefficients:')\n",
    "print([predictor_cols[i] for i in idx])\n"
   ]
  },
  {
   "cell_type": "markdown",
   "metadata": {},
   "source": [
    "## Models by State Testing\n",
    "\n",
    "#### CA Only"
   ]
  },
  {
   "cell_type": "code",
   "execution_count": 39,
   "metadata": {},
   "outputs": [
    {
     "name": "stdout",
     "output_type": "stream",
     "text": [
      "(463982, 51)\n",
      "(463982,)\n"
     ]
    }
   ],
   "source": [
    "x_train_CA = train.loc[train['State'] == 'CA']\n",
    "x_test_CA = test.loc[test['State'] == 'CA']\n",
    "\n",
    "x_trainCA = pd.DataFrame(x_train_CA, columns = predictor_cols)\n",
    "x_testCA = pd.DataFrame(x_test_CA, columns = predictor_cols)\n",
    "\n",
    "y_trainCA = x_train_CA['Duration(s)']\n",
    "y_testCA = x_test_CA['Duration(s)']\n",
    "\n",
    "y_train2CA = x_train_CA['Severity']\n",
    "y_test2CA = x_test_CA['Severity']\n",
    "\n",
    "print(x_trainCA.shape)\n",
    "print(y_trainCA.shape)"
   ]
  },
  {
   "cell_type": "code",
   "execution_count": 40,
   "metadata": {},
   "outputs": [
    {
     "data": {
      "text/plain": [
       "GradientBoostingRegressor(alpha=0.9, criterion='friedman_mse', init=None,\n",
       "             learning_rate=0.1, loss='ls', max_depth=3, max_features=None,\n",
       "             max_leaf_nodes=None, min_impurity_decrease=0.0,\n",
       "             min_impurity_split=None, min_samples_leaf=1,\n",
       "             min_samples_split=2, min_weight_fraction_leaf=0.0,\n",
       "             n_estimators=100, n_iter_no_change=None, presort='auto',\n",
       "             random_state=126, subsample=0.5, tol=0.0001,\n",
       "             validation_fraction=0.1, verbose=0, warm_start=False)"
      ]
     },
     "execution_count": 40,
     "metadata": {},
     "output_type": "execute_result"
    },
    {
     "name": "stdout",
     "output_type": "stream",
     "text": [
      "                             importance\n",
      "Start_Hour                     0.482051\n",
      "Visibility(mi)                 0.099293\n",
      "Pressure(in)                   0.094456\n",
      "Temperature(F)                 0.084687\n",
      "Wind_Chill(F)                  0.060703\n",
      "Wind_Direction_CALM            0.055005\n",
      "Wind_Speed(mph)                0.038705\n",
      "Wind_Direction_SW              0.027229\n",
      "Humidity(%)                    0.023865\n",
      "Wind_Direction_S               0.020520\n",
      "Weekend                        0.007738\n",
      "Start_Month                    0.005027\n",
      "Astronomical_Twilight_Night    0.000204\n",
      "Wind_Direction_SSW             0.000185\n",
      "Weather_Condition_Fog          0.000116\n"
     ]
    }
   ],
   "source": [
    "# Train on actual duration\n",
    "gbreg = GradientBoostingRegressor(random_state = 126, subsample = 0.5)\n",
    "gbreg.fit(x_trainCA, y_trainCA)\n",
    "\n",
    "gb_feature_importances = pd.DataFrame(gbreg.feature_importances_,\n",
    "                                   index = x_trainCA.columns,\n",
    "                                    columns=['importance']).sort_values('importance',  ascending=False)\n",
    "print(gb_feature_importances.head(15))"
   ]
  },
  {
   "cell_type": "code",
   "execution_count": 41,
   "metadata": {},
   "outputs": [
    {
     "data": {
      "text/plain": [
       "GradientBoostingRegressor(alpha=0.9, criterion='friedman_mse', init=None,\n",
       "             learning_rate=0.1, loss='ls', max_depth=3, max_features=None,\n",
       "             max_leaf_nodes=None, min_impurity_decrease=0.0,\n",
       "             min_impurity_split=None, min_samples_leaf=1,\n",
       "             min_samples_split=2, min_weight_fraction_leaf=0.0,\n",
       "             n_estimators=100, n_iter_no_change=None, presort='auto',\n",
       "             random_state=126, subsample=0.5, tol=0.0001,\n",
       "             validation_fraction=0.1, verbose=0, warm_start=False)"
      ]
     },
     "execution_count": 41,
     "metadata": {},
     "output_type": "execute_result"
    },
    {
     "name": "stdout",
     "output_type": "stream",
     "text": [
      "                             importance\n",
      "Start_Month                    0.210273\n",
      "Pressure(in)                   0.207721\n",
      "Weekend                        0.160582\n",
      "Wind_Speed(mph)                0.147365\n",
      "Start_Hour                     0.050792\n",
      "Humidity(%)                    0.041547\n",
      "Wind_Chill(F)                  0.032288\n",
      "Temperature(F)                 0.025278\n",
      "Astronomical_Twilight_Night    0.019868\n",
      "Wind_Direction_CALM            0.016066\n",
      "Nautical_Twilight_Night        0.012252\n",
      "Civil_Twilight_Night           0.011430\n",
      "Wind_Direction_NW              0.007883\n",
      "Wind_Direction_NNW             0.007543\n",
      "Visibility(mi)                 0.007490\n"
     ]
    }
   ],
   "source": [
    "# Train on 1 to 4 severity rating\n",
    "gbreg2 = GradientBoostingRegressor(random_state = 126, subsample = 0.5)\n",
    "gbreg2.fit(x_trainCA, y_train2CA)\n",
    "\n",
    "gb_feature_importances2 = pd.DataFrame(gbreg2.feature_importances_,\n",
    "                                   index = x_trainCA.columns,\n",
    "                                    columns=['importance']).sort_values('importance',  ascending=False)\n",
    "print(gb_feature_importances2.head(15))"
   ]
  },
  {
   "cell_type": "markdown",
   "metadata": {},
   "source": [
    "#### TX Only"
   ]
  },
  {
   "cell_type": "code",
   "execution_count": 42,
   "metadata": {},
   "outputs": [
    {
     "name": "stdout",
     "output_type": "stream",
     "text": [
      "(208787, 51)\n",
      "(208787,)\n"
     ]
    }
   ],
   "source": [
    "x_train_TX = train.loc[train['State'] == 'TX']\n",
    "x_test_TX = test.loc[test['State'] == 'TX']\n",
    "\n",
    "x_trainTX = pd.DataFrame(x_train_TX, columns = predictor_cols)\n",
    "x_testTX = pd.DataFrame(x_test_TX, columns = predictor_cols)\n",
    "\n",
    "y_trainTX = x_train_TX['Duration(s)']\n",
    "y_testTX = x_test_TX['Duration(s)']\n",
    "\n",
    "y_train2TX = x_train_TX['Severity']\n",
    "y_test2TX = x_test_TX['Severity']\n",
    "\n",
    "print(x_trainTX.shape)\n",
    "print(y_trainTX.shape)"
   ]
  },
  {
   "cell_type": "code",
   "execution_count": 43,
   "metadata": {},
   "outputs": [
    {
     "data": {
      "text/plain": [
       "GradientBoostingRegressor(alpha=0.9, criterion='friedman_mse', init=None,\n",
       "             learning_rate=0.1, loss='ls', max_depth=3, max_features=None,\n",
       "             max_leaf_nodes=None, min_impurity_decrease=0.0,\n",
       "             min_impurity_split=None, min_samples_leaf=1,\n",
       "             min_samples_split=2, min_weight_fraction_leaf=0.0,\n",
       "             n_estimators=100, n_iter_no_change=None, presort='auto',\n",
       "             random_state=126, subsample=0.5, tol=0.0001,\n",
       "             validation_fraction=0.1, verbose=0, warm_start=False)"
      ]
     },
     "execution_count": 43,
     "metadata": {},
     "output_type": "execute_result"
    },
    {
     "name": "stdout",
     "output_type": "stream",
     "text": [
      "                                importance\n",
      "Wind_Speed(mph)                   0.408210\n",
      "Pressure(in)                      0.167231\n",
      "Wind_Direction_N                  0.164681\n",
      "Start_Month                       0.105739\n",
      "Visibility(mi)                    0.060670\n",
      "Weather_Condition_Rain            0.052692\n",
      "Precipitation                     0.020302\n",
      "Start_Hour                        0.011610\n",
      "Humidity(%)                       0.002903\n",
      "Temperature(F)                    0.002695\n",
      "Wind_Chill(F)                     0.001654\n",
      "Wind_Direction_VAR                0.001066\n",
      "Wind_Direction_NE                 0.000218\n",
      "Wind_Direction_CALM               0.000129\n",
      "Weather_Condition_Thunderstorm    0.000122\n"
     ]
    }
   ],
   "source": [
    "# Train on actual duration\n",
    "gbreg = GradientBoostingRegressor(random_state = 126, subsample = 0.5)\n",
    "gbreg.fit(x_trainTX, y_trainTX)\n",
    "\n",
    "gb_feature_importances = pd.DataFrame(gbreg.feature_importances_,\n",
    "                                   index = x_trainTX.columns,\n",
    "                                    columns=['importance']).sort_values('importance',  ascending=False)\n",
    "print(gb_feature_importances.head(15))"
   ]
  },
  {
   "cell_type": "code",
   "execution_count": 44,
   "metadata": {},
   "outputs": [
    {
     "data": {
      "text/plain": [
       "GradientBoostingRegressor(alpha=0.9, criterion='friedman_mse', init=None,\n",
       "             learning_rate=0.1, loss='ls', max_depth=3, max_features=None,\n",
       "             max_leaf_nodes=None, min_impurity_decrease=0.0,\n",
       "             min_impurity_split=None, min_samples_leaf=1,\n",
       "             min_samples_split=2, min_weight_fraction_leaf=0.0,\n",
       "             n_estimators=100, n_iter_no_change=None, presort='auto',\n",
       "             random_state=126, subsample=0.5, tol=0.0001,\n",
       "             validation_fraction=0.1, verbose=0, warm_start=False)"
      ]
     },
     "execution_count": 44,
     "metadata": {},
     "output_type": "execute_result"
    },
    {
     "name": "stdout",
     "output_type": "stream",
     "text": [
      "                      importance\n",
      "Start_Hour              0.320123\n",
      "Weekend                 0.224758\n",
      "Pressure(in)            0.056474\n",
      "Wind_Speed(mph)         0.049523\n",
      "Timezone_US/Mountain    0.047217\n",
      "Wind_Chill(F)           0.037636\n",
      "Start_Month             0.035489\n",
      "Visibility(mi)          0.034448\n",
      "Wind_Direction_VAR      0.028266\n",
      "Sunrise_Sunset_Night    0.027935\n",
      "Humidity(%)             0.025106\n",
      "Temperature(F)          0.022445\n",
      "Civil_Twilight_Day      0.014767\n",
      "Civil_Twilight_Night    0.011302\n",
      "Timezone_US/Central     0.010533\n"
     ]
    }
   ],
   "source": [
    "# Train on 1 to 4 severity rating\n",
    "gbreg2 = GradientBoostingRegressor(random_state = 126, subsample = 0.5)\n",
    "gbreg2.fit(x_trainTX, y_train2TX)\n",
    "\n",
    "gb_feature_importances2 = pd.DataFrame(gbreg2.feature_importances_,\n",
    "                                   index = x_trainTX.columns,\n",
    "                                    columns=['importance']).sort_values('importance',  ascending=False)\n",
    "print(gb_feature_importances2.head(15))"
   ]
  },
  {
   "cell_type": "code",
   "execution_count": null,
   "metadata": {},
   "outputs": [],
   "source": []
  }
 ],
 "metadata": {
  "kernelspec": {
   "display_name": "Python 3",
   "language": "python",
   "name": "python3"
  },
  "language_info": {
   "codemirror_mode": {
    "name": "ipython",
    "version": 3
   },
   "file_extension": ".py",
   "mimetype": "text/x-python",
   "name": "python",
   "nbconvert_exporter": "python",
   "pygments_lexer": "ipython3",
   "version": "3.6.8"
  }
 },
 "nbformat": 4,
 "nbformat_minor": 4
}
