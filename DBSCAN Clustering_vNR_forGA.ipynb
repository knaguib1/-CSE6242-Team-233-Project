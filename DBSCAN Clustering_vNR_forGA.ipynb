{
 "cells": [
  {
   "cell_type": "markdown",
   "metadata": {},
   "source": [
    "## Imports"
   ]
  },
  {
   "cell_type": "code",
   "execution_count": 3,
   "metadata": {},
   "outputs": [],
   "source": [
    "import numpy as np\n",
    "import pandas as pd\n",
    "import swifter\n",
    "# import pandas_profiling\n",
    "import pprint\n",
    "import requests\n",
    "import pickle\n",
    "\n",
    "import time\n",
    "\n",
    "from sklearn.cluster import DBSCAN\n",
    "\n",
    "import matplotlib.pyplot as plt\n",
    "from geopy.distance import great_circle\n",
    "from shapely.geometry import MultiPoint, Point, shape\n",
    "import seaborn as sns; sns.set()"
   ]
  },
  {
   "cell_type": "markdown",
   "metadata": {},
   "source": [
    "## Jupyter Configurations"
   ]
  },
  {
   "cell_type": "code",
   "execution_count": 4,
   "metadata": {},
   "outputs": [
    {
     "data": {
      "text/html": [
       "<style>.container { width:90% !important; }</style>"
      ],
      "text/plain": [
       "<IPython.core.display.HTML object>"
      ]
     },
     "metadata": {},
     "output_type": "display_data"
    }
   ],
   "source": [
    "from IPython.core.interactiveshell import InteractiveShell\n",
    "InteractiveShell.ast_node_interactivity = \"all\"\n",
    "\n",
    "from IPython.core.display import display, HTML\n",
    "display(HTML(\"<style>.container { width:90% !important; }</style>\"))\n",
    "\n",
    "pd.set_option('display.max_columns', None)\n",
    "\n",
    "%matplotlib inline"
   ]
  },
  {
   "cell_type": "markdown",
   "metadata": {},
   "source": [
    "## Definitions"
   ]
  },
  {
   "cell_type": "code",
   "execution_count": 5,
   "metadata": {},
   "outputs": [],
   "source": [
    "# define the number of kilometers in one radian\n",
    "kms_per_radian = 6371.0088\n",
    "\n",
    "def get_centermost_point(cluster):\n",
    "    centroid = (MultiPoint(cluster).centroid.x, MultiPoint(cluster).centroid.y)\n",
    "    centermost_point = min(cluster, key=lambda point: great_circle(point, centroid).m)\n",
    "    return tuple(centermost_point)\n",
    "\n",
    "def dbscan_reduce(df, epsilon, x='lon', y='lat'):\n",
    "    start_time = time.time()\n",
    "    print('DBSCAN_Reduce started: ', time.strftime(\"%Y-%m-%d %H:%M:%S\", time.localtime()))\n",
    "    # represent points consistently as (lat, lon) and convert to radians to fit using haversine metric\n",
    "#     coords = df.as_matrix(columns=[y, x]) # Deprecated\n",
    "    coords = df[[y, x]].values\n",
    "    \n",
    "    db = DBSCAN(eps=epsilon, min_samples=1, algorithm='ball_tree', metric='haversine',n_jobs=-1).fit(np.radians(coords))\n",
    "    cluster_labels = db.labels_\n",
    "    num_clusters = len(set(cluster_labels))\n",
    "    print('Number of clusters found: {:,}'.format(num_clusters))\n",
    "    \n",
    "    print('Building clusters started: ', time.strftime(\"%Y-%m-%d %H:%M:%S\", time.localtime()))\n",
    "    clusters = pd.Series([coords[cluster_labels==n] for n in range(num_clusters)])\n",
    "    \n",
    "    print('Cluster centering started: ', time.strftime(\"%Y-%m-%d %H:%M:%S\", time.localtime()))\n",
    "    # find the point in each cluster that is closest to its centroid\n",
    "    centermost_points = clusters.map(get_centermost_point)\n",
    "\n",
    "    # unzip the list of centermost points (lat, lon) tuples into separate lat and lon lists\n",
    "    lats, lons = zip(*centermost_points)\n",
    "    rep_points = pd.DataFrame({x:lons, y:lats})\n",
    "    rep_points.tail()\n",
    "    \n",
    "    print('Gathering cluster centers: ', time.strftime(\"%Y-%m-%d %H:%M:%S\", time.localtime()))\n",
    "    # pull row from original data set where lat/lon match the lat/lon of each row of representative points\n",
    "    rs = rep_points.apply(lambda row: df[(df[y]==row[y]) & (df[x]==row[x])].iloc[0], axis=1)\n",
    "    \n",
    "    # all done, print outcome\n",
    "    message = 'Clustered {:,} points down to {:,} points, for {:.2f}% compression in {:,.2f} seconds.'\n",
    "    print(message.format(len(df), len(rs), 100*(1 - float(len(rs)) / len(df)), time.time()-start_time))    \n",
    "    return rs"
   ]
  },
  {
   "cell_type": "markdown",
   "metadata": {},
   "source": [
    "## Read Data"
   ]
  },
  {
   "cell_type": "code",
   "execution_count": 6,
   "metadata": {},
   "outputs": [
    {
     "name": "stdout",
     "output_type": "stream",
     "text": [
      "Imported 2,974,335 rows.\n",
      "CPU times: user 2.66 s, sys: 1.28 s, total: 3.95 s\n",
      "Wall time: 3.94 s\n"
     ]
    }
   ],
   "source": [
    "%%time\n",
    "\n",
    "infile = open('US_Accidents_Dec19', 'rb')\n",
    "df = pickle.load(infile)\n",
    "infile.close()\n",
    "\n",
    "print('Imported {:,} rows.'.format(len(df)))"
   ]
  },
  {
   "cell_type": "markdown",
   "metadata": {},
   "source": [
    "# Cluster by GPS coordinates\n",
    "## Remove rows where the Longitude and/or Latitude are null values"
   ]
  },
  {
   "cell_type": "code",
   "execution_count": 7,
   "metadata": {},
   "outputs": [
    {
     "name": "stdout",
     "output_type": "stream",
     "text": [
      "CPU times: user 2.7 s, sys: 536 ms, total: 3.24 s\n",
      "Wall time: 1.65 s\n"
     ]
    }
   ],
   "source": [
    "%%time\n",
    "\n",
    "df.dropna(axis=0,how='any',subset=['Start_Lat','Start_Lng'],inplace=True)"
   ]
  },
  {
   "cell_type": "code",
   "execution_count": null,
   "metadata": {},
   "outputs": [
    {
     "name": "stdout",
     "output_type": "stream",
     "text": [
      "DBSCAN_Reduce started:  2020-04-08 19:46:57\n"
     ]
    }
   ],
   "source": [
    "%%time \n",
    "#37 min, 33s for DBSCAN of full data set as 1km\n",
    "\n",
    "# first cluster the full gps location history data set coarsely, with epsilon=5km in radians\n",
    "eps_rad = 1 / kms_per_radian\n",
    "df_clustered = dbscan_reduce(df, epsilon=eps_rad, x='Start_Lng', y='Start_Lat')"
   ]
  },
  {
   "cell_type": "code",
   "execution_count": null,
   "metadata": {},
   "outputs": [],
   "source": [
    "%%time\n",
    "\n",
    "# next, sample every nth row (where n=sample_rate) of the full gps location history data set\n",
    "# sample_rate = 20\n",
    "# df_sampled = df.iloc[range(0, len(df), sample_rate)]\n",
    "\n",
    "# sample a percentage of the full gps location data set\n",
    "df_sampled = df.sample(frac = 0.05, replace = False, random_state = 42)\n",
    "len(df_sampled)\n",
    "\n",
    "df_combined = pd.concat([df_clustered, df_sampled], axis=0)\n",
    "df_combined = df_combined.reset_index().drop(labels='index', axis=1)\n",
    "\n",
    "# then reduce by clustering again, finely this time with epsilon=0.1km in radians\n",
    "eps_rad = 0.1 / kms_per_radian\n",
    "df_final = dbscan_reduce(df_combined, epsilon=eps_rad, x='Start_Lng', y='Start_Lat')"
   ]
  },
  {
   "cell_type": "code",
   "execution_count": 8,
   "metadata": {},
   "outputs": [
    {
     "ename": "NameError",
     "evalue": "name 'df_final' is not defined",
     "output_type": "error",
     "traceback": [
      "\u001b[0;31m---------------------------------------------------------------------------\u001b[0m",
      "\u001b[0;31mNameError\u001b[0m                                 Traceback (most recent call last)",
      "\u001b[0;32m<timed exec>\u001b[0m in \u001b[0;36m<module>\u001b[0;34m\u001b[0m\n",
      "\u001b[0;31mNameError\u001b[0m: name 'df_final' is not defined"
     ]
    },
    {
     "data": {
      "image/png": "[encoded data removed]",
      "text/plain": [
       "<Figure size 792x576 with 1 Axes>"
      ]
     },
     "metadata": {
      "needs_background": "light"
     },
     "output_type": "display_data"
    }
   ],
   "source": [
    "%%time\n",
    "\n",
    "# show a map of the worldwide data points\n",
    "fig, ax = plt.subplots(figsize=[11, 8])\n",
    "rs_scatter = ax.scatter(df_final['Start_Lng'], df_final['Start_Lat'], c='m', edgecolor='None', alpha=0.3, s=120)\n",
    "# df_scatter = ax.scatter(df['Start_Lng'], df['Start_Lat'], c='k', alpha=0.5, s=3)\n",
    "ax.set_title('DBSCAN reduced set')\n",
    "ax.set_xlabel('Longitude')\n",
    "ax.set_ylabel('Latitude')\n",
    "ax.legend([rs_scatter], ['Reduced set'], loc='upper right')\n",
    "plt.show()"
   ]
  },
  {
   "cell_type": "code",
   "execution_count": 9,
   "metadata": {},
   "outputs": [
    {
     "ename": "NameError",
     "evalue": "name 'df_final' is not defined",
     "output_type": "error",
     "traceback": [
      "\u001b[0;31m---------------------------------------------------------------------------\u001b[0m",
      "\u001b[0;31mNameError\u001b[0m                                 Traceback (most recent call last)",
      "\u001b[0;32m<timed exec>\u001b[0m in \u001b[0;36m<module>\u001b[0;34m\u001b[0m\n",
      "\u001b[0;31mNameError\u001b[0m: name 'df_final' is not defined"
     ]
    },
    {
     "data": {
      "image/png": "[encoded data removed]",
      "text/plain": [
       "<Figure size 792x576 with 1 Axes>"
      ]
     },
     "metadata": {
      "needs_background": "light"
     },
     "output_type": "display_data"
    }
   ],
   "source": [
    "%%time\n",
    "\n",
    "# show a map of the worldwide data points\n",
    "fig, ax = plt.subplots(figsize=[11, 8])\n",
    "rs_scatter = ax.scatter(df_final['Start_Lng'], df_final['Start_Lat'], c='m', edgecolor='None', alpha=0.3, s=120)\n",
    "df_scatter = ax.scatter(df['Start_Lng'], df['Start_Lat'], c='k', alpha=0.5, s=3)\n",
    "ax.set_title('Full data set vs DBSCAN reduced set')\n",
    "ax.set_xlabel('Longitude')\n",
    "ax.set_ylabel('Latitude')\n",
    "ax.legend([df_scatter, rs_scatter], ['Full set', 'Reduced set'], loc='upper right')\n",
    "plt.show()"
   ]
  }
 ],
 "metadata": {
  "kernelspec": {
   "display_name": "Python 3",
   "language": "python",
   "name": "python3"
  },
  "language_info": {
   "codemirror_mode": {
    "name": "ipython",
    "version": 3
   },
   "file_extension": ".py",
   "mimetype": "text/x-python",
   "name": "python",
   "nbconvert_exporter": "python",
   "pygments_lexer": "ipython3",
   "version": "3.6.8"
  }
 },
 "nbformat": 4,
 "nbformat_minor": 4
}
